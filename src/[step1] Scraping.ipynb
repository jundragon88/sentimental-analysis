{
 "cells": [
  {
   "cell_type": "markdown",
   "metadata": {},
   "source": [
    "# 네이버 영화 140자평 리뷰 자료 스크레이핑 프로토타입\n",
    "\n",
    "\n",
    "네이버 영화 웹 서비스의 평점과 140자평 데이터를 스크레이핑하여 데이터 셋으로 만드는 예제입니다.\n",
    "\n",
    "- 네티즌 평점 / 140자평 : https://movie.naver.com/movie/point/af/list.nhn?target=after\n",
    "\n",
    "\n",
    "step 1. 평점 개수 확인\n",
    "\n",
    ">#old_content > h5 > div > strong\n",
    "\n",
    "step 2. 데이터셋 생성\n",
    "\n",
    "step 3. 데이터 저장"
   ]
  },
  {
   "cell_type": "markdown",
   "metadata": {},
   "source": [
    "가끔 한글이 깨지는 경우가 있습니다. 아래 두줄의 코드를 넣어줍니다."
   ]
  },
  {
   "cell_type": "code",
   "execution_count": 1,
   "metadata": {},
   "outputs": [],
   "source": [
    "#! /usr/bin/python3\n",
    "# -*- coding: utf-8 -*-"
   ]
  },
  {
   "cell_type": "markdown",
   "metadata": {},
   "source": [
    "**라이브러리 import**"
   ]
  },
  {
   "cell_type": "code",
   "execution_count": 2,
   "metadata": {},
   "outputs": [],
   "source": [
    "import numpy as np\n",
    "import pandas as pd\n",
    " \n",
    "import urllib.request as req\n",
    "import re # 정규식 관련 라이브러리\n",
    "from bs4 import BeautifulSoup # html 파싱용 라이브러리"
   ]
  },
  {
   "cell_type": "code",
   "execution_count": 3,
   "metadata": {},
   "outputs": [],
   "source": [
    "BASE_URL = \"https://movie.naver.com/movie/point/af/list.nhn?target=after\"\n",
    "PAGE_URL = BASE_URL + \"?&page=%s\""
   ]
  },
  {
   "cell_type": "markdown",
   "metadata": {},
   "source": [
    "**리뷰 페이지가 몇개인지 먼저 확인합니다.**"
   ]
  },
  {
   "cell_type": "code",
   "execution_count": 4,
   "metadata": {},
   "outputs": [
    {
     "data": {
      "text/plain": [
       "11271869"
      ]
     },
     "execution_count": 4,
     "metadata": {},
     "output_type": "execute_result"
    }
   ],
   "source": [
    "html = req.urlopen(BASE_URL)\n",
    "soup = BeautifulSoup(html, \"html.parser\")\n",
    "\n",
    "review_count = soup.select(\"#old_content > h5 > div > strong\")\n",
    "review_count = int(review_count[0].string)\n",
    "\n",
    "review_count"
   ]
  },
  {
   "cell_type": "code",
   "execution_count": 5,
   "metadata": {},
   "outputs": [
    {
     "data": {
      "text/plain": [
       "1127187"
      ]
     },
     "execution_count": 5,
     "metadata": {},
     "output_type": "execute_result"
    }
   ],
   "source": [
    "page_count = int(np.ceil(review_count / 10)) # 한 페이지당 10개의 게시글\n",
    "page_count"
   ]
  },
  {
   "cell_type": "markdown",
   "metadata": {},
   "source": [
    "## 페이지 리턴 함수 정의"
   ]
  },
  {
   "cell_type": "code",
   "execution_count": 6,
   "metadata": {},
   "outputs": [],
   "source": [
    "def count_page(url):\n",
    "    html = req.urlopen(url)\n",
    "    soup = BeautifulSoup(html, \"html.parser\")\n",
    "    \n",
    "    review_count = soup.select(\"#old_content > h5 > div > strong\")\n",
    "    review_count = int(review_count[0].string)\n",
    "    \n",
    "    return int(np.ceil(review_count / 10)) # 한 페이지당 10개의 게시글"
   ]
  },
  {
   "cell_type": "code",
   "execution_count": 7,
   "metadata": {},
   "outputs": [
    {
     "data": {
      "text/plain": [
       "1127187"
      ]
     },
     "execution_count": 7,
     "metadata": {},
     "output_type": "execute_result"
    }
   ],
   "source": [
    "count_page(BASE_URL)"
   ]
  },
  {
   "cell_type": "markdown",
   "metadata": {},
   "source": [
    "**테스트용 1페이지 파싱**"
   ]
  },
  {
   "cell_type": "code",
   "execution_count": 8,
   "metadata": {},
   "outputs": [
    {
     "data": {
      "text/plain": [
       "'https://movie.naver.com/movie/point/af/list.nhn?target=after?&page=1'"
      ]
     },
     "execution_count": 8,
     "metadata": {},
     "output_type": "execute_result"
    }
   ],
   "source": [
    "page_num = 1\n",
    "URL = PAGE_URL % page_num\n",
    "URL"
   ]
  },
  {
   "cell_type": "code",
   "execution_count": 9,
   "metadata": {},
   "outputs": [],
   "source": [
    "res = req.urlopen(URL)\n",
    "soup = BeautifulSoup(res, \"html.parser\")"
   ]
  },
  {
   "cell_type": "code",
   "execution_count": 10,
   "metadata": {},
   "outputs": [],
   "source": [
    "test_tr = soup.find_all('tr')"
   ]
  },
  {
   "cell_type": "markdown",
   "metadata": {},
   "source": [
    "**첫번째 행은 Header 정보입니다.**"
   ]
  },
  {
   "cell_type": "code",
   "execution_count": 11,
   "metadata": {},
   "outputs": [
    {
     "data": {
      "text/plain": [
       "<tr>\n",
       "<th>번호</th>\n",
       "<th colspan=\"2\">평점</th>\n",
       "<th>140자평</th>\n",
       "<th class=\"al\"><span class=\"th_m1\">글쓴이·날짜</span></th>\n",
       "</tr>"
      ]
     },
     "execution_count": 11,
     "metadata": {},
     "output_type": "execute_result"
    }
   ],
   "source": [
    "test_tr[0]"
   ]
  },
  {
   "cell_type": "markdown",
   "metadata": {},
   "source": [
    "## 영화 리뷰에 대한 정보입니다. 여기서 필요한 것만 파싱합니다.\n",
    "\n",
    "1. 리뷰 번호\n",
    "2. 리뷰 평점\n",
    "3. 영화 제목\n",
    "4. 영화 리뷰"
   ]
  },
  {
   "cell_type": "code",
   "execution_count": 12,
   "metadata": {
    "scrolled": true
   },
   "outputs": [
    {
     "data": {
      "text/plain": [
       "<tr>\n",
       "<td class=\"ac num\">14770345</td>\n",
       "<td><div class=\"fr point_type_n\"><div class=\"mask\" style=\"width:50.0%\"></div></div></td>\n",
       "<td class=\"point\">5</td>\n",
       "<td class=\"title\">\n",
       "<a class=\"movie\" href=\"?st=mcode&amp;sword=162981&amp;target=after\">명당</a>\n",
       "<br/>평이하고 진부하여 감흥 조차 둔감해지는. \n",
       "\t\t\t\n",
       "\t\t\t\n",
       "\t\t\t\n",
       "\t\t\t\t\n",
       "\t\t\t\t\n",
       "\t\t\t\t\n",
       "\t\t\t\t<a class=\"report\" href=\"javascript:report('gato****', 'joFc16KDDyXYfVt6H54s2v2fldFZoCO9KFH2DA0r+eM=', '평이하고 진부하여 감흥 조차 둔감해지는.', '14770345', 'point_after');\" style=\"color:#8F8F8F\">신고</a>\n",
       "</td>\n",
       "<td class=\"num\"><a class=\"author\" href=\"javascript:find_list('nickname','14770345','after');\">gato****</a><br/>18.10.24</td>\n",
       "</tr>"
      ]
     },
     "execution_count": 12,
     "metadata": {},
     "output_type": "execute_result"
    }
   ],
   "source": [
    "test_tr[1]"
   ]
  },
  {
   "cell_type": "markdown",
   "metadata": {},
   "source": [
    "### 1. 리뷰 번호"
   ]
  },
  {
   "cell_type": "code",
   "execution_count": 13,
   "metadata": {},
   "outputs": [
    {
     "data": {
      "text/plain": [
       "'14770345'"
      ]
     },
     "execution_count": 13,
     "metadata": {},
     "output_type": "execute_result"
    }
   ],
   "source": [
    "test_num = test_tr[1].find('td', {'class':'ac num'})\n",
    "test_num = test_num.text\n",
    "test_num"
   ]
  },
  {
   "cell_type": "markdown",
   "metadata": {},
   "source": [
    "### 2. 리뷰 평점"
   ]
  },
  {
   "cell_type": "code",
   "execution_count": 14,
   "metadata": {},
   "outputs": [
    {
     "data": {
      "text/plain": [
       "'5'"
      ]
     },
     "execution_count": 14,
     "metadata": {},
     "output_type": "execute_result"
    }
   ],
   "source": [
    "test_point = test_tr[1].find('td', {'class':'point'})\n",
    "test_point = test_point.text\n",
    "test_point"
   ]
  },
  {
   "cell_type": "markdown",
   "metadata": {},
   "source": [
    "**영화의 대한 정보**"
   ]
  },
  {
   "cell_type": "code",
   "execution_count": 15,
   "metadata": {},
   "outputs": [
    {
     "data": {
      "text/plain": [
       "'\\n명당\\n평이하고 진부하여 감흥 조차 둔감해지는. \\r\\n\\t\\t\\t\\r\\n\\t\\t\\t\\r\\n\\t\\t\\t\\r\\n\\t\\t\\t\\t\\r\\n\\t\\t\\t\\t\\r\\n\\t\\t\\t\\t\\r\\n\\t\\t\\t\\t신고\\n'"
      ]
     },
     "execution_count": 15,
     "metadata": {},
     "output_type": "execute_result"
    }
   ],
   "source": [
    "test_movie_info = test_tr[1].find('td', {'class':'title'})\n",
    "test_movie_info = test_movie_info.text\n",
    "test_movie_info"
   ]
  },
  {
   "cell_type": "code",
   "execution_count": 16,
   "metadata": {},
   "outputs": [],
   "source": [
    "movielist = test_movie_info.split('\\n')"
   ]
  },
  {
   "cell_type": "markdown",
   "metadata": {},
   "source": [
    "### 3. 영화 제목"
   ]
  },
  {
   "cell_type": "code",
   "execution_count": 17,
   "metadata": {},
   "outputs": [
    {
     "data": {
      "text/plain": [
       "'명당'"
      ]
     },
     "execution_count": 17,
     "metadata": {},
     "output_type": "execute_result"
    }
   ],
   "source": [
    "test_title = movielist[1].strip()\n",
    "test_title"
   ]
  },
  {
   "cell_type": "markdown",
   "metadata": {},
   "source": [
    "### 4. 영화 리뷰"
   ]
  },
  {
   "cell_type": "code",
   "execution_count": 18,
   "metadata": {},
   "outputs": [
    {
     "data": {
      "text/plain": [
       "'평이하고 진부하여 감흥 조차 둔감해지는.'"
      ]
     },
     "execution_count": 18,
     "metadata": {},
     "output_type": "execute_result"
    }
   ],
   "source": [
    "test_review = movielist[2].strip()\n",
    "test_review"
   ]
  },
  {
   "cell_type": "markdown",
   "metadata": {},
   "source": [
    "## 파싱 함수 만들기\n",
    "\n",
    "위의 내용을 토대로 파싱 함수를 만듭니다."
   ]
  },
  {
   "cell_type": "code",
   "execution_count": 19,
   "metadata": {},
   "outputs": [],
   "source": [
    "def parse_item(item):\n",
    "    # return 리뷰번호, 평점, 영화제목, 영화리뷰\n",
    "    # num, point, title, review\n",
    "    \n",
    "    _num = item.find('td', {'class':'ac num'})\n",
    "    _num = _num.text\n",
    "\n",
    "    _point = item.find('td', {'class':'point'})\n",
    "    _point = _point.text\n",
    "    \n",
    "    movie_info = item.find('td', {'class':'title'})\n",
    "    movie_info = movie_info.text\n",
    "    movie_info = movie_info.split('\\n')\n",
    "    \n",
    "    _title = movie_info[1].strip()\n",
    "    _review = movie_info[2].strip()\n",
    "          \n",
    "    return {'num': _num, 'point': _point, 'title': _title, 'review': _review}"
   ]
  },
  {
   "cell_type": "code",
   "execution_count": 20,
   "metadata": {},
   "outputs": [],
   "source": [
    "def scraping_rating_page(url):   \n",
    "    html = req.urlopen(url)\n",
    "    soup = BeautifulSoup(html, 'html')\n",
    "    \n",
    "    items = soup.findAll('tr')\n",
    "    items = items[1:] # 첫번째 행은 header 이므로 제거합니다.\n",
    "\n",
    "    return list(filter(None, [parse_item(item) for item in items]))"
   ]
  },
  {
   "cell_type": "code",
   "execution_count": 21,
   "metadata": {},
   "outputs": [],
   "source": [
    "test_list = scraping_rating_page(URL)"
   ]
  },
  {
   "cell_type": "code",
   "execution_count": 22,
   "metadata": {
    "scrolled": true
   },
   "outputs": [
    {
     "data": {
      "text/plain": [
       "[{'num': '14770347',\n",
       "  'point': '10',\n",
       "  'title': '트로이',\n",
       "  'review': '아킬레스 사후 아들인 네오프톨레모스가 참전해서 트로이 멸망. 헥토르의 아내 안드로마케를 노예로 끌고가 자식을 낳음. 네오프톨레모스 사후 안드로마케는 도련님인 헬레노스와 결혼해 새 왕국 건설. 아프로디테 아들 아이네이아스가 트로이에서 도망쳐 로마 건설.'},\n",
       " {'num': '14770345',\n",
       "  'point': '5',\n",
       "  'title': '명당',\n",
       "  'review': '평이하고 진부하여 감흥 조차 둔감해지는.'},\n",
       " {'num': '14770346',\n",
       "  'point': '10',\n",
       "  'title': '퍼스트맨',\n",
       "  'review': '건조한 연출, 잔잔한 울림. 감동적으로 보았다. 가타카나 클린트 이스트 우드 류의 건조한 영화 좋아하는 사람들에겐 최고의 영화일테고, 다 때려부수고 욕하고 죽이고 이런 킬링타임 혹은 블록버스터 영화 좋아하는 사람들한테는 안맞을거임.'},\n",
       " {'num': '14770344',\n",
       "  'point': '10',\n",
       "  'title': '곰돌이 푸 다시 만나 행복해',\n",
       "  'review': '가족영화의 정석.. ㅜㅜ'},\n",
       " {'num': '14770343',\n",
       "  'point': '10',\n",
       "  'title': '펭귄 하이웨이',\n",
       "  'review': '더빙판 봤는데 재미있게 잘 봤네요^^ 아이들이 보기엔 내용이 다소 난해하지만, 그래도 작화도 아름답고 상상력을 자극하는 내용이라 추천합니다!'},\n",
       " {'num': '14770342',\n",
       "  'point': '10',\n",
       "  'title': '스타 이즈 본',\n",
       "  'review': '음악도 진짜 좋았지만 이건 분명 사랑을 다룬 영화다.'},\n",
       " {'num': '14770341',\n",
       "  'point': '10',\n",
       "  'title': '스타 이즈 본',\n",
       "  'review': '노래가 너무 좋아서 귀가 호강햇습니다..'},\n",
       " {'num': '14770340',\n",
       "  'point': '8',\n",
       "  'title': '천하장사 마돈나',\n",
       "  'review': '이해영감독을 기억하게 하는 유일한 영화...뻔하지 않아서 좋았다'},\n",
       " {'num': '14770339',\n",
       "  'point': '8',\n",
       "  'title': '암수살인',\n",
       "  'review': '재밋게봣어요 범인녀석 반성해야됨'},\n",
       " {'num': '14770338',\n",
       "  'point': '10',\n",
       "  'title': '미쓰백',\n",
       "  'review': '그냥 말이 필요없다. 그간 봐왔던 한지민 팬으로써 연기력에 감탄하고 부단한 노력을 했을 그 모습에 진정한 박수를 보내고 싶다. 끝나고도 여운이 한참동안 가시지 않아 가슴 한켠에 먹먹함이 남아 있었다..'}]"
      ]
     },
     "execution_count": 22,
     "metadata": {},
     "output_type": "execute_result"
    }
   ],
   "source": [
    "test_list"
   ]
  },
  {
   "cell_type": "markdown",
   "metadata": {},
   "source": [
    "**10개의 리뷰 정보가 저장되었습니다. (1페이지 분량)**"
   ]
  },
  {
   "cell_type": "code",
   "execution_count": 23,
   "metadata": {},
   "outputs": [
    {
     "data": {
      "text/html": [
       "<div>\n",
       "<style scoped>\n",
       "    .dataframe tbody tr th:only-of-type {\n",
       "        vertical-align: middle;\n",
       "    }\n",
       "\n",
       "    .dataframe tbody tr th {\n",
       "        vertical-align: top;\n",
       "    }\n",
       "\n",
       "    .dataframe thead th {\n",
       "        text-align: right;\n",
       "    }\n",
       "</style>\n",
       "<table border=\"1\" class=\"dataframe\">\n",
       "  <thead>\n",
       "    <tr style=\"text-align: right;\">\n",
       "      <th></th>\n",
       "      <th>num</th>\n",
       "      <th>point</th>\n",
       "      <th>title</th>\n",
       "      <th>review</th>\n",
       "    </tr>\n",
       "  </thead>\n",
       "  <tbody>\n",
       "    <tr>\n",
       "      <th>0</th>\n",
       "      <td>14770347</td>\n",
       "      <td>10</td>\n",
       "      <td>트로이</td>\n",
       "      <td>아킬레스 사후 아들인 네오프톨레모스가 참전해서 트로이 멸망. 헥토르의 아내 안드로마...</td>\n",
       "    </tr>\n",
       "    <tr>\n",
       "      <th>1</th>\n",
       "      <td>14770345</td>\n",
       "      <td>5</td>\n",
       "      <td>명당</td>\n",
       "      <td>평이하고 진부하여 감흥 조차 둔감해지는.</td>\n",
       "    </tr>\n",
       "    <tr>\n",
       "      <th>2</th>\n",
       "      <td>14770346</td>\n",
       "      <td>10</td>\n",
       "      <td>퍼스트맨</td>\n",
       "      <td>건조한 연출, 잔잔한 울림. 감동적으로 보았다. 가타카나 클린트 이스트 우드 류의 ...</td>\n",
       "    </tr>\n",
       "    <tr>\n",
       "      <th>3</th>\n",
       "      <td>14770344</td>\n",
       "      <td>10</td>\n",
       "      <td>곰돌이 푸 다시 만나 행복해</td>\n",
       "      <td>가족영화의 정석.. ㅜㅜ</td>\n",
       "    </tr>\n",
       "    <tr>\n",
       "      <th>4</th>\n",
       "      <td>14770343</td>\n",
       "      <td>10</td>\n",
       "      <td>펭귄 하이웨이</td>\n",
       "      <td>더빙판 봤는데 재미있게 잘 봤네요^^ 아이들이 보기엔 내용이 다소 난해하지만, 그래...</td>\n",
       "    </tr>\n",
       "    <tr>\n",
       "      <th>5</th>\n",
       "      <td>14770342</td>\n",
       "      <td>10</td>\n",
       "      <td>스타 이즈 본</td>\n",
       "      <td>음악도 진짜 좋았지만 이건 분명 사랑을 다룬 영화다.</td>\n",
       "    </tr>\n",
       "    <tr>\n",
       "      <th>6</th>\n",
       "      <td>14770341</td>\n",
       "      <td>10</td>\n",
       "      <td>스타 이즈 본</td>\n",
       "      <td>노래가 너무 좋아서 귀가 호강햇습니다..</td>\n",
       "    </tr>\n",
       "    <tr>\n",
       "      <th>7</th>\n",
       "      <td>14770340</td>\n",
       "      <td>8</td>\n",
       "      <td>천하장사 마돈나</td>\n",
       "      <td>이해영감독을 기억하게 하는 유일한 영화...뻔하지 않아서 좋았다</td>\n",
       "    </tr>\n",
       "    <tr>\n",
       "      <th>8</th>\n",
       "      <td>14770339</td>\n",
       "      <td>8</td>\n",
       "      <td>암수살인</td>\n",
       "      <td>재밋게봣어요 범인녀석 반성해야됨</td>\n",
       "    </tr>\n",
       "    <tr>\n",
       "      <th>9</th>\n",
       "      <td>14770338</td>\n",
       "      <td>10</td>\n",
       "      <td>미쓰백</td>\n",
       "      <td>그냥 말이 필요없다. 그간 봐왔던 한지민 팬으로써 연기력에 감탄하고 부단한 노력을 ...</td>\n",
       "    </tr>\n",
       "  </tbody>\n",
       "</table>\n",
       "</div>"
      ],
      "text/plain": [
       "        num point            title  \\\n",
       "0  14770347    10              트로이   \n",
       "1  14770345     5               명당   \n",
       "2  14770346    10             퍼스트맨   \n",
       "3  14770344    10  곰돌이 푸 다시 만나 행복해   \n",
       "4  14770343    10          펭귄 하이웨이   \n",
       "5  14770342    10          스타 이즈 본   \n",
       "6  14770341    10          스타 이즈 본   \n",
       "7  14770340     8         천하장사 마돈나   \n",
       "8  14770339     8             암수살인   \n",
       "9  14770338    10              미쓰백   \n",
       "\n",
       "                                              review  \n",
       "0  아킬레스 사후 아들인 네오프톨레모스가 참전해서 트로이 멸망. 헥토르의 아내 안드로마...  \n",
       "1                             평이하고 진부하여 감흥 조차 둔감해지는.  \n",
       "2  건조한 연출, 잔잔한 울림. 감동적으로 보았다. 가타카나 클린트 이스트 우드 류의 ...  \n",
       "3                                      가족영화의 정석.. ㅜㅜ  \n",
       "4  더빙판 봤는데 재미있게 잘 봤네요^^ 아이들이 보기엔 내용이 다소 난해하지만, 그래...  \n",
       "5                      음악도 진짜 좋았지만 이건 분명 사랑을 다룬 영화다.  \n",
       "6                             노래가 너무 좋아서 귀가 호강햇습니다..  \n",
       "7                이해영감독을 기억하게 하는 유일한 영화...뻔하지 않아서 좋았다  \n",
       "8                                  재밋게봣어요 범인녀석 반성해야됨  \n",
       "9  그냥 말이 필요없다. 그간 봐왔던 한지민 팬으로써 연기력에 감탄하고 부단한 노력을 ...  "
      ]
     },
     "execution_count": 23,
     "metadata": {},
     "output_type": "execute_result"
    }
   ],
   "source": [
    "df = pd.DataFrame(columns=('num', 'point', 'title', 'review'))\n",
    "df.append(test_list)"
   ]
  },
  {
   "cell_type": "markdown",
   "metadata": {},
   "source": [
    "**테스트로 100개의 데이터를 읽어와서 csv 로 저장해보겠습니다.**"
   ]
  },
  {
   "cell_type": "code",
   "execution_count": 24,
   "metadata": {
    "scrolled": true
   },
   "outputs": [
    {
     "data": {
      "text/html": [
       "<div>\n",
       "<style scoped>\n",
       "    .dataframe tbody tr th:only-of-type {\n",
       "        vertical-align: middle;\n",
       "    }\n",
       "\n",
       "    .dataframe tbody tr th {\n",
       "        vertical-align: top;\n",
       "    }\n",
       "\n",
       "    .dataframe thead th {\n",
       "        text-align: right;\n",
       "    }\n",
       "</style>\n",
       "<table border=\"1\" class=\"dataframe\">\n",
       "  <thead>\n",
       "    <tr style=\"text-align: right;\">\n",
       "      <th></th>\n",
       "      <th>num</th>\n",
       "      <th>point</th>\n",
       "      <th>title</th>\n",
       "      <th>review</th>\n",
       "    </tr>\n",
       "  </thead>\n",
       "  <tbody>\n",
       "    <tr>\n",
       "      <th>0</th>\n",
       "      <td>14770349</td>\n",
       "      <td>10</td>\n",
       "      <td>프리퀀시</td>\n",
       "      <td>프랭크 설리반 같은 아빠, 줄리아 설리반 같은 아내, 존 설리반 같은 아들, 고르도...</td>\n",
       "    </tr>\n",
       "    <tr>\n",
       "      <th>1</th>\n",
       "      <td>14770348</td>\n",
       "      <td>10</td>\n",
       "      <td>너의 이름은.</td>\n",
       "      <td>와...밑에 내용이해안된다고 벌점테러한 인간이있네지가 빡대가리인것도 모르고ㅋㅋㅋ</td>\n",
       "    </tr>\n",
       "    <tr>\n",
       "      <th>2</th>\n",
       "      <td>14770347</td>\n",
       "      <td>10</td>\n",
       "      <td>트로이</td>\n",
       "      <td>아킬레스 사후 아들인 네오프톨레모스가 참전해서 트로이 멸망. 헥토르의 아내 안드로마...</td>\n",
       "    </tr>\n",
       "    <tr>\n",
       "      <th>3</th>\n",
       "      <td>14770345</td>\n",
       "      <td>5</td>\n",
       "      <td>명당</td>\n",
       "      <td>평이하고 진부하여 감흥 조차 둔감해지는.</td>\n",
       "    </tr>\n",
       "    <tr>\n",
       "      <th>4</th>\n",
       "      <td>14770346</td>\n",
       "      <td>10</td>\n",
       "      <td>퍼스트맨</td>\n",
       "      <td>건조한 연출, 잔잔한 울림. 감동적으로 보았다. 가타카나 클린트 이스트 우드 류의 ...</td>\n",
       "    </tr>\n",
       "    <tr>\n",
       "      <th>5</th>\n",
       "      <td>14770344</td>\n",
       "      <td>10</td>\n",
       "      <td>곰돌이 푸 다시 만나 행복해</td>\n",
       "      <td>가족영화의 정석.. ㅜㅜ</td>\n",
       "    </tr>\n",
       "    <tr>\n",
       "      <th>6</th>\n",
       "      <td>14770343</td>\n",
       "      <td>10</td>\n",
       "      <td>펭귄 하이웨이</td>\n",
       "      <td>더빙판 봤는데 재미있게 잘 봤네요^^ 아이들이 보기엔 내용이 다소 난해하지만, 그래...</td>\n",
       "    </tr>\n",
       "    <tr>\n",
       "      <th>7</th>\n",
       "      <td>14770342</td>\n",
       "      <td>10</td>\n",
       "      <td>스타 이즈 본</td>\n",
       "      <td>음악도 진짜 좋았지만 이건 분명 사랑을 다룬 영화다.</td>\n",
       "    </tr>\n",
       "    <tr>\n",
       "      <th>8</th>\n",
       "      <td>14770341</td>\n",
       "      <td>10</td>\n",
       "      <td>스타 이즈 본</td>\n",
       "      <td>노래가 너무 좋아서 귀가 호강햇습니다..</td>\n",
       "    </tr>\n",
       "    <tr>\n",
       "      <th>9</th>\n",
       "      <td>14770340</td>\n",
       "      <td>8</td>\n",
       "      <td>천하장사 마돈나</td>\n",
       "      <td>이해영감독을 기억하게 하는 유일한 영화...뻔하지 않아서 좋았다</td>\n",
       "    </tr>\n",
       "    <tr>\n",
       "      <th>10</th>\n",
       "      <td>14770339</td>\n",
       "      <td>8</td>\n",
       "      <td>암수살인</td>\n",
       "      <td>재밋게봣어요 범인녀석 반성해야됨</td>\n",
       "    </tr>\n",
       "    <tr>\n",
       "      <th>11</th>\n",
       "      <td>14770338</td>\n",
       "      <td>10</td>\n",
       "      <td>미쓰백</td>\n",
       "      <td>그냥 말이 필요없다. 그간 봐왔던 한지민 팬으로써 연기력에 감탄하고 부단한 노력을 ...</td>\n",
       "    </tr>\n",
       "    <tr>\n",
       "      <th>12</th>\n",
       "      <td>14770337</td>\n",
       "      <td>8</td>\n",
       "      <td>박화영</td>\n",
       "      <td>중간중간 흡사 다큐인줄 착각했을 정도로 박화영 역할에 몰입도가 높았어요. 그러나 모...</td>\n",
       "    </tr>\n",
       "    <tr>\n",
       "      <th>13</th>\n",
       "      <td>14770336</td>\n",
       "      <td>10</td>\n",
       "      <td>명당</td>\n",
       "      <td>와후 하하호호호호애헹</td>\n",
       "    </tr>\n",
       "    <tr>\n",
       "      <th>14</th>\n",
       "      <td>14770335</td>\n",
       "      <td>10</td>\n",
       "      <td>베놈</td>\n",
       "      <td>wow 재미 있었어요오호호호호</td>\n",
       "    </tr>\n",
       "    <tr>\n",
       "      <th>15</th>\n",
       "      <td>14770334</td>\n",
       "      <td>10</td>\n",
       "      <td>말할 수 없는 비밀</td>\n",
       "      <td>채널돌리다 나오면 꼭 보는 영화들중하나</td>\n",
       "    </tr>\n",
       "    <tr>\n",
       "      <th>16</th>\n",
       "      <td>14770333</td>\n",
       "      <td>10</td>\n",
       "      <td>스타 이즈 본</td>\n",
       "      <td>정말 좋아하는 영화의 흐름....연기는 물론 연출, 노래까지 부족한 게 없는 영화</td>\n",
       "    </tr>\n",
       "    <tr>\n",
       "      <th>17</th>\n",
       "      <td>14770332</td>\n",
       "      <td>9</td>\n",
       "      <td>스타 이즈 본</td>\n",
       "      <td>레이디가가의 노래에 감동...이렇게 연기를 잘 하다니...짧지 않은 런닝타임이 지루...</td>\n",
       "    </tr>\n",
       "    <tr>\n",
       "      <th>18</th>\n",
       "      <td>14770331</td>\n",
       "      <td>6</td>\n",
       "      <td>올 더 머니</td>\n",
       "      <td>지금 티브이에서 방영중~~~돈이 뭐시 그리 중헌디~~~~ㅉ ㅉ</td>\n",
       "    </tr>\n",
       "    <tr>\n",
       "      <th>19</th>\n",
       "      <td>14770329</td>\n",
       "      <td>10</td>\n",
       "      <td>안시성</td>\n",
       "      <td>올해 최고의영화입니다 정말 너무너무너무너무 멋있습니다 양만춘장군님</td>\n",
       "    </tr>\n",
       "    <tr>\n",
       "      <th>20</th>\n",
       "      <td>14770328</td>\n",
       "      <td>8</td>\n",
       "      <td>베놈</td>\n",
       "      <td>볼만합니다~. 2편나와도 기대됨~</td>\n",
       "    </tr>\n",
       "    <tr>\n",
       "      <th>21</th>\n",
       "      <td>14770327</td>\n",
       "      <td>7</td>\n",
       "      <td>후궁 : 제왕의 첩</td>\n",
       "      <td>조선 궁정 에로. 글래머 형수님.시동생 왕. 그리고 고자..</td>\n",
       "    </tr>\n",
       "    <tr>\n",
       "      <th>22</th>\n",
       "      <td>14770326</td>\n",
       "      <td>10</td>\n",
       "      <td>공작</td>\n",
       "      <td>두번봤는데, 두번째봤을땐 아~무도 안보이고 이성민 아저씨만 보였습니다ㅎㅎ</td>\n",
       "    </tr>\n",
       "    <tr>\n",
       "      <th>23</th>\n",
       "      <td>14770325</td>\n",
       "      <td>10</td>\n",
       "      <td>인크레더블 2</td>\n",
       "      <td>남성과 여성의 현대모습을 판타스틱하게 표현한영화 꼭 보세요</td>\n",
       "    </tr>\n",
       "    <tr>\n",
       "      <th>24</th>\n",
       "      <td>14770324</td>\n",
       "      <td>10</td>\n",
       "      <td>앤트맨과 와스프</td>\n",
       "      <td>보는내내 지루하지않고 너무 재밌었어요  꾸르잼</td>\n",
       "    </tr>\n",
       "    <tr>\n",
       "      <th>25</th>\n",
       "      <td>14770323</td>\n",
       "      <td>9</td>\n",
       "      <td>미쓰백</td>\n",
       "      <td>한지민이 연기를 잘한다는 것을 다시한번 느꼈던 영화.</td>\n",
       "    </tr>\n",
       "    <tr>\n",
       "      <th>26</th>\n",
       "      <td>14770322</td>\n",
       "      <td>10</td>\n",
       "      <td>미쓰백</td>\n",
       "      <td>정말 정말 좋은영화 꼭 보세요</td>\n",
       "    </tr>\n",
       "    <tr>\n",
       "      <th>27</th>\n",
       "      <td>14770320</td>\n",
       "      <td>8</td>\n",
       "      <td>물괴</td>\n",
       "      <td>재미없진않았어요보통..,,저는 최우식이 너무 좋아서 계속 봤어요</td>\n",
       "    </tr>\n",
       "    <tr>\n",
       "      <th>28</th>\n",
       "      <td>14770319</td>\n",
       "      <td>10</td>\n",
       "      <td>미쓰백</td>\n",
       "      <td>최고의 영화휴지 챙겨가세요</td>\n",
       "    </tr>\n",
       "    <tr>\n",
       "      <th>29</th>\n",
       "      <td>14770318</td>\n",
       "      <td>6</td>\n",
       "      <td>안시성</td>\n",
       "      <td>재밌게 보았으나 웬지 요즘 한국영화를 보면 어디서  본듯 한  장면들이 떠오른다. ...</td>\n",
       "    </tr>\n",
       "    <tr>\n",
       "      <th>...</th>\n",
       "      <td>...</td>\n",
       "      <td>...</td>\n",
       "      <td>...</td>\n",
       "      <td>...</td>\n",
       "    </tr>\n",
       "    <tr>\n",
       "      <th>70</th>\n",
       "      <td>14770272</td>\n",
       "      <td>7</td>\n",
       "      <td>달콤한 신부들</td>\n",
       "      <td>최수지 예쁘고 최재성도 좋았다</td>\n",
       "    </tr>\n",
       "    <tr>\n",
       "      <th>71</th>\n",
       "      <td>14770271</td>\n",
       "      <td>9</td>\n",
       "      <td>죄 많은 소녀</td>\n",
       "      <td>올해 버닝과 더불어 최고의 한국영화</td>\n",
       "    </tr>\n",
       "    <tr>\n",
       "      <th>72</th>\n",
       "      <td>14770270</td>\n",
       "      <td>9</td>\n",
       "      <td>암수살인</td>\n",
       "      <td>색안경색안경색안경색안경</td>\n",
       "    </tr>\n",
       "    <tr>\n",
       "      <th>73</th>\n",
       "      <td>14770269</td>\n",
       "      <td>10</td>\n",
       "      <td>미쓰백</td>\n",
       "      <td>연기는 물론 메세지도 최고의 영화</td>\n",
       "    </tr>\n",
       "    <tr>\n",
       "      <th>74</th>\n",
       "      <td>14770268</td>\n",
       "      <td>7</td>\n",
       "      <td>공작</td>\n",
       "      <td>생각보다 지루했음.. 연기력은 좋아서 볼만해요</td>\n",
       "    </tr>\n",
       "    <tr>\n",
       "      <th>75</th>\n",
       "      <td>14770267</td>\n",
       "      <td>10</td>\n",
       "      <td>빅 피쉬</td>\n",
       "      <td>내 인생 최고의 영화. 돌아보니 그렇다.</td>\n",
       "    </tr>\n",
       "    <tr>\n",
       "      <th>76</th>\n",
       "      <td>14770266</td>\n",
       "      <td>8</td>\n",
       "      <td>그랜드 부다페스트 호텔</td>\n",
       "      <td>여자친구 인생영화라고 항상 알려줬었는데, 이번에 재개봉해서 같이 보고왔습니다! 저는...</td>\n",
       "    </tr>\n",
       "    <tr>\n",
       "      <th>77</th>\n",
       "      <td>14770264</td>\n",
       "      <td>10</td>\n",
       "      <td>스타 이즈 본</td>\n",
       "      <td>기대이상의 영화^^^^</td>\n",
       "    </tr>\n",
       "    <tr>\n",
       "      <th>78</th>\n",
       "      <td>14770263</td>\n",
       "      <td>8</td>\n",
       "      <td>암수살인</td>\n",
       "      <td>긴장감넘치고 무엇보다 진짜 주지훈 연기떄문에 완전 빠져들어서 봤습니다. 아직도 해결...</td>\n",
       "    </tr>\n",
       "    <tr>\n",
       "      <th>79</th>\n",
       "      <td>14770262</td>\n",
       "      <td>10</td>\n",
       "      <td>암수살인</td>\n",
       "      <td>김윤석이야 원래잘하고 요즘 주지훈 연기 완전 물오름 추적자 에서 하정우보다 떨어지지않더라</td>\n",
       "    </tr>\n",
       "    <tr>\n",
       "      <th>80</th>\n",
       "      <td>14770260</td>\n",
       "      <td>7</td>\n",
       "      <td>명당</td>\n",
       "      <td>김성균 배우에대한 언급이 없네 . 김성균님 개인적으로 연기 제일 빛났던거 같던데 아...</td>\n",
       "    </tr>\n",
       "    <tr>\n",
       "      <th>81</th>\n",
       "      <td>14770259</td>\n",
       "      <td>10</td>\n",
       "      <td>미쓰백</td>\n",
       "      <td>한지민의 연기력을 볼수있는 영화~~  정말 연기력 쵝오</td>\n",
       "    </tr>\n",
       "    <tr>\n",
       "      <th>82</th>\n",
       "      <td>14770258</td>\n",
       "      <td>6</td>\n",
       "      <td>살인자의 기억법</td>\n",
       "      <td>끝까지 잘 끌고간 심리 스릴러를 마지막에가서 결국 망쳐버리고야 마는 난투극. 수사물...</td>\n",
       "    </tr>\n",
       "    <tr>\n",
       "      <th>83</th>\n",
       "      <td>14770257</td>\n",
       "      <td>6</td>\n",
       "      <td>검사외전</td>\n",
       "      <td>노잼.... 말그대로 노잼</td>\n",
       "    </tr>\n",
       "    <tr>\n",
       "      <th>84</th>\n",
       "      <td>14770256</td>\n",
       "      <td>1</td>\n",
       "      <td>배반의 장미</td>\n",
       "      <td>모두가 알고있지. 0점이란걸.</td>\n",
       "    </tr>\n",
       "    <tr>\n",
       "      <th>85</th>\n",
       "      <td>14770255</td>\n",
       "      <td>8</td>\n",
       "      <td>리틀 포레스트</td>\n",
       "      <td>아역 연기가 정말 거슬리는것 빼고는 대부분 만족스런 영화였어요</td>\n",
       "    </tr>\n",
       "    <tr>\n",
       "      <th>86</th>\n",
       "      <td>14770254</td>\n",
       "      <td>10</td>\n",
       "      <td>액슬</td>\n",
       "      <td>굳좋아요오오오 너무무무무</td>\n",
       "    </tr>\n",
       "    <tr>\n",
       "      <th>87</th>\n",
       "      <td>14770253</td>\n",
       "      <td>5</td>\n",
       "      <td>짱구는 못말려 극장판: 태풍을 부르는 노래하는 엉덩이 폭탄!</td>\n",
       "      <td>개를 사랑하자....</td>\n",
       "    </tr>\n",
       "    <tr>\n",
       "      <th>88</th>\n",
       "      <td>14770252</td>\n",
       "      <td>10</td>\n",
       "      <td>말할 수 없는 비밀</td>\n",
       "      <td>두번 보면 더 재미있어요.</td>\n",
       "    </tr>\n",
       "    <tr>\n",
       "      <th>89</th>\n",
       "      <td>14770251</td>\n",
       "      <td>9</td>\n",
       "      <td>동감</td>\n",
       "      <td>타임 루프 한국 드라마중의 원탑. 부드럽고 포근하다. 비슷한 마스크의 김하늘, 하지...</td>\n",
       "    </tr>\n",
       "    <tr>\n",
       "      <th>90</th>\n",
       "      <td>14770250</td>\n",
       "      <td>10</td>\n",
       "      <td>베놈</td>\n",
       "      <td>공감 10개 넘으면 찐환이 가 팬티벗는다</td>\n",
       "    </tr>\n",
       "    <tr>\n",
       "      <th>91</th>\n",
       "      <td>14770249</td>\n",
       "      <td>6</td>\n",
       "      <td>아이 필 프리티</td>\n",
       "      <td>인정하고 감사하는마음이 필요해</td>\n",
       "    </tr>\n",
       "    <tr>\n",
       "      <th>92</th>\n",
       "      <td>14770246</td>\n",
       "      <td>6</td>\n",
       "      <td>박화영</td>\n",
       "      <td>진짜 거지같은 영화다. 보는 내내 OO았다</td>\n",
       "    </tr>\n",
       "    <tr>\n",
       "      <th>93</th>\n",
       "      <td>14770245</td>\n",
       "      <td>10</td>\n",
       "      <td>퍼스트맨</td>\n",
       "      <td>뻔하디 뻔한 좌익 선동 한국영화보다는 백배 낫습니다. 미국이 왜 강대국인지 한국이 ...</td>\n",
       "    </tr>\n",
       "    <tr>\n",
       "      <th>94</th>\n",
       "      <td>14770244</td>\n",
       "      <td>6</td>\n",
       "      <td>퍼스트맨</td>\n",
       "      <td>어렵게 도착한 달에서 딸을 떠나 보내는 장면이 뭉클</td>\n",
       "    </tr>\n",
       "    <tr>\n",
       "      <th>95</th>\n",
       "      <td>14770242</td>\n",
       "      <td>8</td>\n",
       "      <td>퍼스트맨</td>\n",
       "      <td>굳 재밌어요 숨죽이는 재미</td>\n",
       "    </tr>\n",
       "    <tr>\n",
       "      <th>96</th>\n",
       "      <td>14770240</td>\n",
       "      <td>8</td>\n",
       "      <td>암수살인</td>\n",
       "      <td>믿고보는 배우 주지훈,김윤석</td>\n",
       "    </tr>\n",
       "    <tr>\n",
       "      <th>97</th>\n",
       "      <td>14770239</td>\n",
       "      <td>9</td>\n",
       "      <td>퍼스트맨</td>\n",
       "      <td>넘흐넘흐 재밌다릐 오졌따릐 지렸따릐 쿵쿵따릐</td>\n",
       "    </tr>\n",
       "    <tr>\n",
       "      <th>98</th>\n",
       "      <td>14770238</td>\n",
       "      <td>10</td>\n",
       "      <td>검은 사제들</td>\n",
       "      <td>https://www.youtube.com/watch?v=KYN-Wyt17xE</td>\n",
       "    </tr>\n",
       "    <tr>\n",
       "      <th>99</th>\n",
       "      <td>14770237</td>\n",
       "      <td>1</td>\n",
       "      <td>배반의 장미</td>\n",
       "      <td>한국영화, 점점 암흑기로</td>\n",
       "    </tr>\n",
       "  </tbody>\n",
       "</table>\n",
       "<p>100 rows × 4 columns</p>\n",
       "</div>"
      ],
      "text/plain": [
       "         num point                              title  \\\n",
       "0   14770349    10                               프리퀀시   \n",
       "1   14770348    10                            너의 이름은.   \n",
       "2   14770347    10                                트로이   \n",
       "3   14770345     5                                 명당   \n",
       "4   14770346    10                               퍼스트맨   \n",
       "5   14770344    10                    곰돌이 푸 다시 만나 행복해   \n",
       "6   14770343    10                            펭귄 하이웨이   \n",
       "7   14770342    10                            스타 이즈 본   \n",
       "8   14770341    10                            스타 이즈 본   \n",
       "9   14770340     8                           천하장사 마돈나   \n",
       "10  14770339     8                               암수살인   \n",
       "11  14770338    10                                미쓰백   \n",
       "12  14770337     8                                박화영   \n",
       "13  14770336    10                                 명당   \n",
       "14  14770335    10                                 베놈   \n",
       "15  14770334    10                         말할 수 없는 비밀   \n",
       "16  14770333    10                            스타 이즈 본   \n",
       "17  14770332     9                            스타 이즈 본   \n",
       "18  14770331     6                             올 더 머니   \n",
       "19  14770329    10                                안시성   \n",
       "20  14770328     8                                 베놈   \n",
       "21  14770327     7                         후궁 : 제왕의 첩   \n",
       "22  14770326    10                                 공작   \n",
       "23  14770325    10                            인크레더블 2   \n",
       "24  14770324    10                           앤트맨과 와스프   \n",
       "25  14770323     9                                미쓰백   \n",
       "26  14770322    10                                미쓰백   \n",
       "27  14770320     8                                 물괴   \n",
       "28  14770319    10                                미쓰백   \n",
       "29  14770318     6                                안시성   \n",
       "..       ...   ...                                ...   \n",
       "70  14770272     7                            달콤한 신부들   \n",
       "71  14770271     9                            죄 많은 소녀   \n",
       "72  14770270     9                               암수살인   \n",
       "73  14770269    10                                미쓰백   \n",
       "74  14770268     7                                 공작   \n",
       "75  14770267    10                               빅 피쉬   \n",
       "76  14770266     8                       그랜드 부다페스트 호텔   \n",
       "77  14770264    10                            스타 이즈 본   \n",
       "78  14770263     8                               암수살인   \n",
       "79  14770262    10                               암수살인   \n",
       "80  14770260     7                                 명당   \n",
       "81  14770259    10                                미쓰백   \n",
       "82  14770258     6                           살인자의 기억법   \n",
       "83  14770257     6                               검사외전   \n",
       "84  14770256     1                             배반의 장미   \n",
       "85  14770255     8                            리틀 포레스트   \n",
       "86  14770254    10                                 액슬   \n",
       "87  14770253     5  짱구는 못말려 극장판: 태풍을 부르는 노래하는 엉덩이 폭탄!   \n",
       "88  14770252    10                         말할 수 없는 비밀   \n",
       "89  14770251     9                                 동감   \n",
       "90  14770250    10                                 베놈   \n",
       "91  14770249     6                           아이 필 프리티   \n",
       "92  14770246     6                                박화영   \n",
       "93  14770245    10                               퍼스트맨   \n",
       "94  14770244     6                               퍼스트맨   \n",
       "95  14770242     8                               퍼스트맨   \n",
       "96  14770240     8                               암수살인   \n",
       "97  14770239     9                               퍼스트맨   \n",
       "98  14770238    10                             검은 사제들   \n",
       "99  14770237     1                             배반의 장미   \n",
       "\n",
       "                                               review  \n",
       "0   프랭크 설리반 같은 아빠, 줄리아 설리반 같은 아내, 존 설리반 같은 아들, 고르도...  \n",
       "1        와...밑에 내용이해안된다고 벌점테러한 인간이있네지가 빡대가리인것도 모르고ㅋㅋㅋ  \n",
       "2   아킬레스 사후 아들인 네오프톨레모스가 참전해서 트로이 멸망. 헥토르의 아내 안드로마...  \n",
       "3                              평이하고 진부하여 감흥 조차 둔감해지는.  \n",
       "4   건조한 연출, 잔잔한 울림. 감동적으로 보았다. 가타카나 클린트 이스트 우드 류의 ...  \n",
       "5                                       가족영화의 정석.. ㅜㅜ  \n",
       "6   더빙판 봤는데 재미있게 잘 봤네요^^ 아이들이 보기엔 내용이 다소 난해하지만, 그래...  \n",
       "7                       음악도 진짜 좋았지만 이건 분명 사랑을 다룬 영화다.  \n",
       "8                              노래가 너무 좋아서 귀가 호강햇습니다..  \n",
       "9                 이해영감독을 기억하게 하는 유일한 영화...뻔하지 않아서 좋았다  \n",
       "10                                  재밋게봣어요 범인녀석 반성해야됨  \n",
       "11  그냥 말이 필요없다. 그간 봐왔던 한지민 팬으로써 연기력에 감탄하고 부단한 노력을 ...  \n",
       "12  중간중간 흡사 다큐인줄 착각했을 정도로 박화영 역할에 몰입도가 높았어요. 그러나 모...  \n",
       "13                                        와후 하하호호호호애헹  \n",
       "14                                   wow 재미 있었어요오호호호호  \n",
       "15                              채널돌리다 나오면 꼭 보는 영화들중하나  \n",
       "16      정말 좋아하는 영화의 흐름....연기는 물론 연출, 노래까지 부족한 게 없는 영화  \n",
       "17  레이디가가의 노래에 감동...이렇게 연기를 잘 하다니...짧지 않은 런닝타임이 지루...  \n",
       "18                 지금 티브이에서 방영중~~~돈이 뭐시 그리 중헌디~~~~ㅉ ㅉ  \n",
       "19               올해 최고의영화입니다 정말 너무너무너무너무 멋있습니다 양만춘장군님  \n",
       "20                                 볼만합니다~. 2편나와도 기대됨~  \n",
       "21                  조선 궁정 에로. 글래머 형수님.시동생 왕. 그리고 고자..  \n",
       "22           두번봤는데, 두번째봤을땐 아~무도 안보이고 이성민 아저씨만 보였습니다ㅎㅎ  \n",
       "23                   남성과 여성의 현대모습을 판타스틱하게 표현한영화 꼭 보세요  \n",
       "24                          보는내내 지루하지않고 너무 재밌었어요  꾸르잼  \n",
       "25                      한지민이 연기를 잘한다는 것을 다시한번 느꼈던 영화.  \n",
       "26                                   정말 정말 좋은영화 꼭 보세요  \n",
       "27                재미없진않았어요보통..,,저는 최우식이 너무 좋아서 계속 봤어요  \n",
       "28                                     최고의 영화휴지 챙겨가세요  \n",
       "29  재밌게 보았으나 웬지 요즘 한국영화를 보면 어디서  본듯 한  장면들이 떠오른다. ...  \n",
       "..                                                ...  \n",
       "70                                   최수지 예쁘고 최재성도 좋았다  \n",
       "71                                올해 버닝과 더불어 최고의 한국영화  \n",
       "72                                       색안경색안경색안경색안경  \n",
       "73                                 연기는 물론 메세지도 최고의 영화  \n",
       "74                          생각보다 지루했음.. 연기력은 좋아서 볼만해요  \n",
       "75                             내 인생 최고의 영화. 돌아보니 그렇다.  \n",
       "76  여자친구 인생영화라고 항상 알려줬었는데, 이번에 재개봉해서 같이 보고왔습니다! 저는...  \n",
       "77                                       기대이상의 영화^^^^  \n",
       "78  긴장감넘치고 무엇보다 진짜 주지훈 연기떄문에 완전 빠져들어서 봤습니다. 아직도 해결...  \n",
       "79  김윤석이야 원래잘하고 요즘 주지훈 연기 완전 물오름 추적자 에서 하정우보다 떨어지지않더라  \n",
       "80  김성균 배우에대한 언급이 없네 . 김성균님 개인적으로 연기 제일 빛났던거 같던데 아...  \n",
       "81                     한지민의 연기력을 볼수있는 영화~~  정말 연기력 쵝오  \n",
       "82  끝까지 잘 끌고간 심리 스릴러를 마지막에가서 결국 망쳐버리고야 마는 난투극. 수사물...  \n",
       "83                                     노잼.... 말그대로 노잼  \n",
       "84                                   모두가 알고있지. 0점이란걸.  \n",
       "85                 아역 연기가 정말 거슬리는것 빼고는 대부분 만족스런 영화였어요  \n",
       "86                                      굳좋아요오오오 너무무무무  \n",
       "87                                        개를 사랑하자....  \n",
       "88                                     두번 보면 더 재미있어요.  \n",
       "89  타임 루프 한국 드라마중의 원탑. 부드럽고 포근하다. 비슷한 마스크의 김하늘, 하지...  \n",
       "90                             공감 10개 넘으면 찐환이 가 팬티벗는다  \n",
       "91                                   인정하고 감사하는마음이 필요해  \n",
       "92                            진짜 거지같은 영화다. 보는 내내 OO았다  \n",
       "93  뻔하디 뻔한 좌익 선동 한국영화보다는 백배 낫습니다. 미국이 왜 강대국인지 한국이 ...  \n",
       "94                       어렵게 도착한 달에서 딸을 떠나 보내는 장면이 뭉클  \n",
       "95                                     굳 재밌어요 숨죽이는 재미  \n",
       "96                                    믿고보는 배우 주지훈,김윤석  \n",
       "97                           넘흐넘흐 재밌다릐 오졌따릐 지렸따릐 쿵쿵따릐  \n",
       "98        https://www.youtube.com/watch?v=KYN-Wyt17xE  \n",
       "99                                      한국영화, 점점 암흑기로  \n",
       "\n",
       "[100 rows x 4 columns]"
      ]
     },
     "execution_count": 24,
     "metadata": {},
     "output_type": "execute_result"
    }
   ],
   "source": [
    "test_df = pd.DataFrame(columns=('num', 'point', 'title', 'review'))\n",
    "\n",
    "for index in range(10):\n",
    "    test_df = test_df.append(scraping_rating_page(PAGE_URL % (index+1)), ignore_index=True)\n",
    "    \n",
    "test_df"
   ]
  },
  {
   "cell_type": "markdown",
   "metadata": {},
   "source": [
    "**리뷰 갯수가 딱 맞지 않는 이유는 스크레핑 하는 과정에도 새로운 게시물이 생겨서 페이징 시에 누락되는 평점이 존재 하기 때문입니다.**"
   ]
  },
  {
   "cell_type": "markdown",
   "metadata": {},
   "source": [
    "##### csv 형태로 저장\n",
    "\n",
    "내용이 많으므로 50 페이지 당 한번씩 Raw 데이터를 csv 파일로 저장합니다."
   ]
  },
  {
   "cell_type": "code",
   "execution_count": null,
   "metadata": {
    "scrolled": true
   },
   "outputs": [],
   "source": [
    "review_df = pd.DataFrame(columns=('num', 'point', 'title', 'review'))\n",
    "review_file = '../data/raw/%s.csv'\n",
    "\n",
    "for index in range(count_page(BASE_URL)):\n",
    "    review_df.\n",
    "    \n",
    "    review_df = review_df.append(scraping_rating_page(PAGE_URL % (index+1)), ignore_index=True)\n",
    "    \n",
    "    if ((index+1) % 100) == 0:\n",
    "        file_name = review_file % (index+1)\n",
    "        review_df.to_csv(file_name, index=False, header=True)\n",
    "        \n",
    "        review_df = pd.DataFrame(columns=('num', 'point', 'title', 'review')) # 저장후 초기화\n",
    "        \n",
    "        print(file_name, '저장했습니다.')"
   ]
  },
  {
   "cell_type": "code",
   "execution_count": null,
   "metadata": {},
   "outputs": [],
   "source": []
  }
 ],
 "metadata": {
  "kernelspec": {
   "display_name": "Python 3",
   "language": "python",
   "name": "python3"
  },
  "language_info": {
   "codemirror_mode": {
    "name": "ipython",
    "version": 3
   },
   "file_extension": ".py",
   "mimetype": "text/x-python",
   "name": "python",
   "nbconvert_exporter": "python",
   "pygments_lexer": "ipython3",
   "version": "3.6.6"
  }
 },
 "nbformat": 4,
 "nbformat_minor": 2
}
