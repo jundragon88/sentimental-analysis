{
 "cells": [
  {
   "cell_type": "markdown",
   "metadata": {},
   "source": [
    "# 네이버 영화 140자평 스크레이핑 프로그램 만들기"
   ]
  },
  {
   "cell_type": "code",
   "execution_count": 1,
   "metadata": {},
   "outputs": [],
   "source": [
    "#! /usr/bin/python3\n",
    "# -*- coding: utf-8 -*-"
   ]
  },
  {
   "cell_type": "code",
   "execution_count": 2,
   "metadata": {},
   "outputs": [],
   "source": [
    "from os import makedirs\n",
    "import os.path\n",
    "import csv, codecs\n",
    "\n",
    "import numpy as np\n",
    "import pandas as pd\n",
    " \n",
    "import urllib.request as req\n",
    "import re # 정규식 관련 라이브러리\n",
    "from bs4 import BeautifulSoup # html 파싱용 라이브러리"
   ]
  },
  {
   "cell_type": "code",
   "execution_count": 3,
   "metadata": {},
   "outputs": [],
   "source": [
    "BASE_URL = \"https://movie.naver.com/movie/point/af/list.nhn?target=after\"\n",
    "PAGE_URL = BASE_URL + \"?&page=%s\""
   ]
  },
  {
   "cell_type": "markdown",
   "metadata": {},
   "source": [
    "## 페이지 수 리턴 함수 정의"
   ]
  },
  {
   "cell_type": "code",
   "execution_count": 4,
   "metadata": {},
   "outputs": [],
   "source": [
    "def count_page(url):\n",
    "    html = req.urlopen(url)\n",
    "    soup = BeautifulSoup(html, \"html.parser\")\n",
    "    \n",
    "    review_count = soup.select(\"#old_content > h5 > div > strong\")\n",
    "    review_count = int(review_count[0].string)\n",
    "    \n",
    "    return int(np.ceil(review_count / 10)) # 한 페이지당 10개의 게시글"
   ]
  },
  {
   "cell_type": "markdown",
   "metadata": {},
   "source": [
    "## 파싱 함수 정의"
   ]
  },
  {
   "cell_type": "code",
   "execution_count": 5,
   "metadata": {},
   "outputs": [],
   "source": [
    "def parse_item(item):\n",
    "    # return 리뷰번호, 평점, 영화제목, 영화리뷰\n",
    "    # num, point, title, review\n",
    "    \n",
    "    _num = item.find('td', {'class':'ac num'})\n",
    "    _num = _num.text\n",
    "\n",
    "    _point = item.find('td', {'class':'point'})\n",
    "    _point = _point.text\n",
    "    \n",
    "    movie_info = item.find('td', {'class':'title'})\n",
    "    movie_info = movie_info.text\n",
    "    movie_info = movie_info.split('\\n')\n",
    "    \n",
    "    _title = movie_info[1].strip()\n",
    "    _review = movie_info[2].strip()\n",
    "    \n",
    "    try:\n",
    "        return {'num': _num, 'point': _point, 'title': _title, 'review': _review}\n",
    "    except (IndexError, AttributeError) as e:\n",
    "        print(e, item.text)\n",
    "    except (AssertionError) as e:\n",
    "        print(e, \"sleep for %s\" % 600)\n",
    "        time.sleep(600)\n",
    "    except Exception as e:\n",
    "        print(e)"
   ]
  },
  {
   "cell_type": "code",
   "execution_count": 6,
   "metadata": {},
   "outputs": [],
   "source": [
    "def scraping_rating_page(url):   \n",
    "    html = req.urlopen(url)\n",
    "    soup = BeautifulSoup(html, 'html')\n",
    "    \n",
    "    items = soup.findAll('tr')\n",
    "    items = items[1:] # 첫번째 행은 header 이므로 제거합니다.\n",
    "\n",
    "    return list([parse_item(item) for item in items])"
   ]
  },
  {
   "cell_type": "code",
   "execution_count": 9,
   "metadata": {},
   "outputs": [],
   "source": [
    "review_path = '../raw_data'\n",
    "\n",
    "if not os.path.exists(review_path):\n",
    "    print(\"make dirs=\", review_path)\n",
    "    makedirs(review_path)"
   ]
  },
  {
   "cell_type": "markdown",
   "metadata": {},
   "source": [
    "## CSV 파일로 100 페이지 당 한번씩 Raw 데이터를 저장합니다."
   ]
  },
  {
   "cell_type": "code",
   "execution_count": 25,
   "metadata": {
    "scrolled": true
   },
   "outputs": [
    {
     "name": "stdout",
     "output_type": "stream",
     "text": [
      "https://movie.naver.com/movie/point/af/list.nhn?target=after?&page=1000\n",
      "[{'num': '14759568', 'point': '10', 'title': '스타 이즈 본', 'review': '요즘볼게읍다 ㄹㅇㄹ ㅋㅋㅋ'}, {'num': '14759567', 'point': '6', 'title': '베놈', 'review': '현실성은 없지만 시간때우기로 볼만함'}, {'num': '14759566', 'point': '8', 'title': '서치', 'review': '몮ㄷㅈㄴㅇ재미있어요'}, {'num': '14759565', 'point': '10', 'title': '베놈', 'review': '진짜 개굴잼 꼭 보세요 여러분'}, {'num': '14759564', 'point': '10', 'title': '곰돌이 푸 다시 만나 행복해', 'review': '뭔가 살짝 허무한감도 있긴했었지만 내인생에 감동을 준 최고의 영화 :)'}, {'num': '14759563', 'point': '10', 'title': '베놈', 'review': 'ㅇㅇㅇㄴ재미있어요!'}, {'num': '14759562', 'point': '9', 'title': '베놈', 'review': '처음본저로서는 재밌어요! 뭔가 많이 기대하고가시면 생각보단 별로일수있어요'}, {'num': '14759561', 'point': '10', 'title': '호스틸', 'review': '6점으로 끝났을 좀비영화을 마지막 10분에 의해 10점이 되었다 최고의 좀비(?) 영화'}, {'num': '14759560', 'point': '10', 'title': '호밀밭의 반항아', 'review': '니콜라스 홀트 연기 최고였어요. 니콜라스 홀트는  사랑입니댜'}, {'num': '14759559', 'point': '10', 'title': '퍼스트맨', 'review': '2시간 20분의 긴 러닝타임동안 콜라를 다 못마시고 나올정도로 몰입하게되는 영화중들중 하나'}]\n",
      "=============\n",
      "Empty DataFrame\n",
      "Columns: [num, point, title, review]\n",
      "Index: []\n",
      "../raw_data/1000.csv 저장했습니다.\n",
      "https://movie.naver.com/movie/point/af/list.nhn?target=after?&page=1001\n",
      "[]\n",
      "=============\n",
      "Empty DataFrame\n",
      "Columns: [num, point, title, review]\n",
      "Index: []\n"
     ]
    },
    {
     "ename": "IndexError",
     "evalue": "list index out of range",
     "output_type": "error",
     "traceback": [
      "\u001b[1;31m---------------------------------------------------------------------------\u001b[0m",
      "\u001b[1;31mIndexError\u001b[0m                                Traceback (most recent call last)",
      "\u001b[1;32m<ipython-input-25-521677f88728>\u001b[0m in \u001b[0;36m<module>\u001b[1;34m\u001b[0m\n\u001b[0;32m     11\u001b[0m \u001b[1;33m\u001b[0m\u001b[0m\n\u001b[0;32m     12\u001b[0m \u001b[1;33m\u001b[0m\u001b[0m\n\u001b[1;32m---> 13\u001b[1;33m     \u001b[0mreview_df\u001b[0m \u001b[1;33m=\u001b[0m \u001b[0mreview_df\u001b[0m\u001b[1;33m.\u001b[0m\u001b[0mappend\u001b[0m\u001b[1;33m(\u001b[0m\u001b[0madd_list\u001b[0m\u001b[1;33m)\u001b[0m\u001b[1;33m\u001b[0m\u001b[0m\n\u001b[0m\u001b[0;32m     14\u001b[0m \u001b[1;33m\u001b[0m\u001b[0m\n\u001b[0;32m     15\u001b[0m     \u001b[1;32mif\u001b[0m \u001b[1;33m(\u001b[0m\u001b[0mindex\u001b[0m \u001b[1;33m%\u001b[0m \u001b[1;36m10\u001b[0m\u001b[1;33m)\u001b[0m \u001b[1;33m==\u001b[0m \u001b[1;36m0\u001b[0m\u001b[1;33m:\u001b[0m\u001b[1;33m\u001b[0m\u001b[0m\n",
      "\u001b[1;32mD:\\Anaconda3\\envs\\dev-tensorflow\\lib\\site-packages\\pandas\\core\\frame.py\u001b[0m in \u001b[0;36mappend\u001b[1;34m(self, other, ignore_index, verify_integrity, sort)\u001b[0m\n\u001b[0;32m   6197\u001b[0m             \u001b[1;32mif\u001b[0m \u001b[1;32mnot\u001b[0m \u001b[0mself\u001b[0m\u001b[1;33m.\u001b[0m\u001b[0mcolumns\u001b[0m\u001b[1;33m.\u001b[0m\u001b[0mequals\u001b[0m\u001b[1;33m(\u001b[0m\u001b[0mcombined_columns\u001b[0m\u001b[1;33m)\u001b[0m\u001b[1;33m:\u001b[0m\u001b[1;33m\u001b[0m\u001b[0m\n\u001b[0;32m   6198\u001b[0m                 \u001b[0mself\u001b[0m \u001b[1;33m=\u001b[0m \u001b[0mself\u001b[0m\u001b[1;33m.\u001b[0m\u001b[0mreindex\u001b[0m\u001b[1;33m(\u001b[0m\u001b[0mcolumns\u001b[0m\u001b[1;33m=\u001b[0m\u001b[0mcombined_columns\u001b[0m\u001b[1;33m)\u001b[0m\u001b[1;33m\u001b[0m\u001b[0m\n\u001b[1;32m-> 6199\u001b[1;33m         \u001b[1;32melif\u001b[0m \u001b[0misinstance\u001b[0m\u001b[1;33m(\u001b[0m\u001b[0mother\u001b[0m\u001b[1;33m,\u001b[0m \u001b[0mlist\u001b[0m\u001b[1;33m)\u001b[0m \u001b[1;32mand\u001b[0m \u001b[1;32mnot\u001b[0m \u001b[0misinstance\u001b[0m\u001b[1;33m(\u001b[0m\u001b[0mother\u001b[0m\u001b[1;33m[\u001b[0m\u001b[1;36m0\u001b[0m\u001b[1;33m]\u001b[0m\u001b[1;33m,\u001b[0m \u001b[0mDataFrame\u001b[0m\u001b[1;33m)\u001b[0m\u001b[1;33m:\u001b[0m\u001b[1;33m\u001b[0m\u001b[0m\n\u001b[0m\u001b[0;32m   6200\u001b[0m             \u001b[0mother\u001b[0m \u001b[1;33m=\u001b[0m \u001b[0mDataFrame\u001b[0m\u001b[1;33m(\u001b[0m\u001b[0mother\u001b[0m\u001b[1;33m)\u001b[0m\u001b[1;33m\u001b[0m\u001b[0m\n\u001b[0;32m   6201\u001b[0m             \u001b[1;32mif\u001b[0m \u001b[1;33m(\u001b[0m\u001b[0mself\u001b[0m\u001b[1;33m.\u001b[0m\u001b[0mcolumns\u001b[0m\u001b[1;33m.\u001b[0m\u001b[0mget_indexer\u001b[0m\u001b[1;33m(\u001b[0m\u001b[0mother\u001b[0m\u001b[1;33m.\u001b[0m\u001b[0mcolumns\u001b[0m\u001b[1;33m)\u001b[0m \u001b[1;33m>=\u001b[0m \u001b[1;36m0\u001b[0m\u001b[1;33m)\u001b[0m\u001b[1;33m.\u001b[0m\u001b[0mall\u001b[0m\u001b[1;33m(\u001b[0m\u001b[1;33m)\u001b[0m\u001b[1;33m:\u001b[0m\u001b[1;33m\u001b[0m\u001b[0m\n",
      "\u001b[1;31mIndexError\u001b[0m: list index out of range"
     ]
    }
   ],
   "source": [
    "review_df = pd.DataFrame(columns=('num', 'point', 'title', 'review'))\n",
    "review_file = '../raw_data/%s.csv'\n",
    "\n",
    "for index in range(1, count_page(BASE_URL)):\n",
    "    url = PAGE_URL % (index)\n",
    "    add_list = scraping_rating_page(url)\n",
    "    print(url)\n",
    "    print(add_list)\n",
    "    print('=============')\n",
    "    print(review_df)\n",
    "    \n",
    "    \n",
    "    review_df = review_df.append(add_list)\n",
    "    \n",
    "    if (index % 10) == 0:\n",
    "        # 중복 row 제거\n",
    "        \n",
    "        #\n",
    "        \n",
    "        # 저장\n",
    "        file_name = review_file % index\n",
    "        review_df.to_csv(file_name, index=False, header=True)        \n",
    "        print(file_name, '저장했습니다.')\n",
    "        \n",
    "        # 초기화\n",
    "        review_df = pd.DataFrame(columns=('num', 'point', 'title', 'review'))"
   ]
  },
  {
   "cell_type": "code",
   "execution_count": 17,
   "metadata": {},
   "outputs": [
    {
     "name": "stdout",
     "output_type": "stream",
     "text": [
      "[{'num': '14759560', 'point': '10', 'title': '호밀밭의 반항아', 'review': '니콜라스 홀트 연기 최고였어요. 니콜라스 홀트는  사랑입니댜'}, {'num': '14759559', 'point': '10', 'title': '퍼스트맨', 'review': '2시간 20분의 긴 러닝타임동안 콜라를 다 못마시고 나올정도로 몰입하게되는 영화중들중 하나'}, {'num': '14759558', 'point': '4', 'title': '협상', 'review': '노련한 협상가는 어떠한 경우에도 눈물을 보이지 않는다.'}, {'num': '14759555', 'point': '7', 'title': '안시성', 'review': '명량보단 나은듯...'}, {'num': '14759554', 'point': '10', 'title': '퍼스트맨', 'review': '나만 당할순없지 아이맥스 진짜 어휴 내돈'}, {'num': '14759553', 'point': '10', 'title': '퍼스트맨', 'review': '너무나 집중하며 봤네요.. 추천합니다 정말'}, {'num': '14759552', 'point': '10', 'title': '미쓰백', 'review': '어른들이 꼭 봐야할 영화입니다'}, {'num': '14759551', 'point': '9', 'title': '협상', 'review': '지루하지 않고, 연기도 좋았고, 너무 잔인한 장면도 아니고, 좋아요~'}, {'num': '14759550', 'point': '4', 'title': '곰돌이 푸 다시 만나 행복해', 'review': '후... 영화는 괜찮은데 전체이용가 영화라그런지 유아 어린이들 개많아서 난장판임ㅋ 힐링하러갓다가 혈압오름 나중에 vod 풀리면 그때보는거 추천'}, {'num': '14759549', 'point': '10', 'title': '그랜드 부다페스트 호텔', 'review': '영화 장면장면 너무 황홀했다.특히 눈속을 달리는 장면과 멘들,호텔의 오묘하지만 조화로운 색상들...너무 좋아'}]\n",
      "저장\n"
     ]
    }
   ],
   "source": [
    "review_df = pd.DataFrame(columns=('num', 'point', 'title', 'review'))\n",
    "url = PAGE_URL % 1000\n",
    "print(scraping_rating_page(url))\n",
    "review_df = review_df.append(scraping_rating_page(url))\n",
    "\n",
    "if (1000 % 10) == 0:\n",
    "    print('저장')"
   ]
  },
  {
   "cell_type": "code",
   "execution_count": 15,
   "metadata": {},
   "outputs": [
    {
     "data": {
      "text/html": [
       "<div>\n",
       "<style scoped>\n",
       "    .dataframe tbody tr th:only-of-type {\n",
       "        vertical-align: middle;\n",
       "    }\n",
       "\n",
       "    .dataframe tbody tr th {\n",
       "        vertical-align: top;\n",
       "    }\n",
       "\n",
       "    .dataframe thead th {\n",
       "        text-align: right;\n",
       "    }\n",
       "</style>\n",
       "<table border=\"1\" class=\"dataframe\">\n",
       "  <thead>\n",
       "    <tr style=\"text-align: right;\">\n",
       "      <th></th>\n",
       "      <th>num</th>\n",
       "      <th>point</th>\n",
       "      <th>title</th>\n",
       "      <th>review</th>\n",
       "    </tr>\n",
       "  </thead>\n",
       "  <tbody>\n",
       "    <tr>\n",
       "      <th>0</th>\n",
       "      <td>14759559</td>\n",
       "      <td>10</td>\n",
       "      <td>퍼스트맨</td>\n",
       "      <td>2시간 20분의 긴 러닝타임동안 콜라를 다 못마시고 나올정도로 몰입하게되는 영화중들...</td>\n",
       "    </tr>\n",
       "    <tr>\n",
       "      <th>1</th>\n",
       "      <td>14759558</td>\n",
       "      <td>4</td>\n",
       "      <td>협상</td>\n",
       "      <td>노련한 협상가는 어떠한 경우에도 눈물을 보이지 않는다.</td>\n",
       "    </tr>\n",
       "    <tr>\n",
       "      <th>2</th>\n",
       "      <td>14759555</td>\n",
       "      <td>7</td>\n",
       "      <td>안시성</td>\n",
       "      <td>명량보단 나은듯...</td>\n",
       "    </tr>\n",
       "    <tr>\n",
       "      <th>3</th>\n",
       "      <td>14759554</td>\n",
       "      <td>10</td>\n",
       "      <td>퍼스트맨</td>\n",
       "      <td>나만 당할순없지 아이맥스 진짜 어휴 내돈</td>\n",
       "    </tr>\n",
       "    <tr>\n",
       "      <th>4</th>\n",
       "      <td>14759553</td>\n",
       "      <td>10</td>\n",
       "      <td>퍼스트맨</td>\n",
       "      <td>너무나 집중하며 봤네요.. 추천합니다 정말</td>\n",
       "    </tr>\n",
       "    <tr>\n",
       "      <th>5</th>\n",
       "      <td>14759552</td>\n",
       "      <td>10</td>\n",
       "      <td>미쓰백</td>\n",
       "      <td>어른들이 꼭 봐야할 영화입니다</td>\n",
       "    </tr>\n",
       "    <tr>\n",
       "      <th>6</th>\n",
       "      <td>14759551</td>\n",
       "      <td>9</td>\n",
       "      <td>협상</td>\n",
       "      <td>지루하지 않고, 연기도 좋았고, 너무 잔인한 장면도 아니고, 좋아요~</td>\n",
       "    </tr>\n",
       "    <tr>\n",
       "      <th>7</th>\n",
       "      <td>14759550</td>\n",
       "      <td>4</td>\n",
       "      <td>곰돌이 푸 다시 만나 행복해</td>\n",
       "      <td>후... 영화는 괜찮은데 전체이용가 영화라그런지 유아 어린이들 개많아서 난장판임ㅋ ...</td>\n",
       "    </tr>\n",
       "    <tr>\n",
       "      <th>8</th>\n",
       "      <td>14759549</td>\n",
       "      <td>10</td>\n",
       "      <td>그랜드 부다페스트 호텔</td>\n",
       "      <td>영화 장면장면 너무 황홀했다.특히 눈속을 달리는 장면과 멘들,호텔의 오묘하지만 조화...</td>\n",
       "    </tr>\n",
       "    <tr>\n",
       "      <th>9</th>\n",
       "      <td>14759548</td>\n",
       "      <td>8</td>\n",
       "      <td>스타 이즈 본</td>\n",
       "      <td>귀호강했는데,그렇게 보내냐!ㅜㅜ</td>\n",
       "    </tr>\n",
       "  </tbody>\n",
       "</table>\n",
       "</div>"
      ],
      "text/plain": [
       "        num point            title  \\\n",
       "0  14759559    10             퍼스트맨   \n",
       "1  14759558     4               협상   \n",
       "2  14759555     7              안시성   \n",
       "3  14759554    10             퍼스트맨   \n",
       "4  14759553    10             퍼스트맨   \n",
       "5  14759552    10              미쓰백   \n",
       "6  14759551     9               협상   \n",
       "7  14759550     4  곰돌이 푸 다시 만나 행복해   \n",
       "8  14759549    10     그랜드 부다페스트 호텔   \n",
       "9  14759548     8          스타 이즈 본   \n",
       "\n",
       "                                              review  \n",
       "0  2시간 20분의 긴 러닝타임동안 콜라를 다 못마시고 나올정도로 몰입하게되는 영화중들...  \n",
       "1                     노련한 협상가는 어떠한 경우에도 눈물을 보이지 않는다.  \n",
       "2                                        명량보단 나은듯...  \n",
       "3                             나만 당할순없지 아이맥스 진짜 어휴 내돈  \n",
       "4                            너무나 집중하며 봤네요.. 추천합니다 정말  \n",
       "5                                   어른들이 꼭 봐야할 영화입니다  \n",
       "6             지루하지 않고, 연기도 좋았고, 너무 잔인한 장면도 아니고, 좋아요~  \n",
       "7  후... 영화는 괜찮은데 전체이용가 영화라그런지 유아 어린이들 개많아서 난장판임ㅋ ...  \n",
       "8  영화 장면장면 너무 황홀했다.특히 눈속을 달리는 장면과 멘들,호텔의 오묘하지만 조화...  \n",
       "9                                  귀호강했는데,그렇게 보내냐!ㅜㅜ  "
      ]
     },
     "execution_count": 15,
     "metadata": {},
     "output_type": "execute_result"
    }
   ],
   "source": [
    "review_df"
   ]
  },
  {
   "cell_type": "code",
   "execution_count": null,
   "metadata": {},
   "outputs": [],
   "source": []
  }
 ],
 "metadata": {
  "kernelspec": {
   "display_name": "Python 3",
   "language": "python",
   "name": "python3"
  },
  "language_info": {
   "codemirror_mode": {
    "name": "ipython",
    "version": 3
   },
   "file_extension": ".py",
   "mimetype": "text/x-python",
   "name": "python",
   "nbconvert_exporter": "python",
   "pygments_lexer": "ipython3",
   "version": "3.6.6"
  }
 },
 "nbformat": 4,
 "nbformat_minor": 2
}
