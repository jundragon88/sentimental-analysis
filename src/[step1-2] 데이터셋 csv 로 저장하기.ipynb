{
 "cells": [
  {
   "cell_type": "markdown",
   "metadata": {},
   "source": [
    "# 네이버 영화 140자평 데이터 셋 CSV 로 저장하기"
   ]
  },
  {
   "cell_type": "code",
   "execution_count": 1,
   "metadata": {},
   "outputs": [],
   "source": [
    "#! /usr/bin/python3\n",
    "# -*- coding: utf-8 -*-"
   ]
  },
  {
   "cell_type": "code",
   "execution_count": 2,
   "metadata": {},
   "outputs": [],
   "source": [
    "from os import makedirs\n",
    "import os.path\n",
    "import csv, codecs\n",
    "\n",
    "import numpy as np\n",
    "import pandas as pd\n",
    " \n",
    "import urllib.request as req\n",
    "import re # 정규식 관련 라이브러리\n",
    "from bs4 import BeautifulSoup # html 파싱용 라이브러리"
   ]
  },
  {
   "cell_type": "code",
   "execution_count": 3,
   "metadata": {},
   "outputs": [],
   "source": [
    "BASE_URL = \"https://movie.naver.com/movie/point/af/list.nhn?target=after\"\n",
    "PAGE_URL = BASE_URL + \"?&page=%s\""
   ]
  },
  {
   "cell_type": "markdown",
   "metadata": {},
   "source": [
    "## 페이지 수 리턴 함수 정의"
   ]
  },
  {
   "cell_type": "code",
   "execution_count": 4,
   "metadata": {},
   "outputs": [],
   "source": [
    "def count_page(url):\n",
    "    html = req.urlopen(url)\n",
    "    soup = BeautifulSoup(html, \"html.parser\")\n",
    "    \n",
    "    review_count = soup.select(\"#old_content > h5 > div > strong\")\n",
    "    review_count = int(review_count[0].string)\n",
    "    \n",
    "    return int(np.ceil(review_count / 10)) # 한 페이지당 10개의 게시글"
   ]
  },
  {
   "cell_type": "markdown",
   "metadata": {},
   "source": [
    "## 파싱 함수 정의"
   ]
  },
  {
   "cell_type": "code",
   "execution_count": 5,
   "metadata": {},
   "outputs": [],
   "source": [
    "def parse_item(item):\n",
    "    # return 리뷰번호, 평점, 영화제목, 영화리뷰\n",
    "    # num, point, title, review\n",
    "    \n",
    "    _num = item.find('td', {'class':'ac num'})\n",
    "    _num = _num.text\n",
    "\n",
    "    _point = item.find('td', {'class':'point'})\n",
    "    _point = _point.text\n",
    "    \n",
    "    movie_info = item.find('td', {'class':'title'})\n",
    "    movie_info = movie_info.text\n",
    "    movie_info = movie_info.split('\\n')\n",
    "    \n",
    "    _title = movie_info[1].strip()\n",
    "    _review = movie_info[2].strip()\n",
    "    \n",
    "    try:\n",
    "        return {'num': _num, 'point': _point, 'title': _title, 'review': _review}\n",
    "    except (IndexError, AttributeError) as e:\n",
    "        print(e, item.text)\n",
    "    except (AssertionError) as e:\n",
    "        print(e, \"sleep for %s\" % 600)\n",
    "        time.sleep(600)\n",
    "    except Exception as e:\n",
    "        print(e)"
   ]
  },
  {
   "cell_type": "code",
   "execution_count": 6,
   "metadata": {},
   "outputs": [],
   "source": [
    "def scraping_rating_page(url):   \n",
    "    html = req.urlopen(url)\n",
    "    soup = BeautifulSoup(html, 'html')\n",
    "    \n",
    "    items = soup.findAll('tr')\n",
    "    items = items[1:] # 첫번째 행은 header 이므로 제거합니다.\n",
    "\n",
    "    return list([parse_item(item) for item in items])"
   ]
  },
  {
   "cell_type": "code",
   "execution_count": 7,
   "metadata": {},
   "outputs": [],
   "source": [
    "review_path = '../raw_data'\n",
    "\n",
    "if not os.path.exists(review_path):\n",
    "    print(\"make dirs=\", review_path)\n",
    "    makedirs(review_path)"
   ]
  },
  {
   "cell_type": "markdown",
   "metadata": {},
   "source": [
    "## CSV 파일로 100 페이지 당 한번씩 Raw 데이터를 저장합니다."
   ]
  },
  {
   "cell_type": "code",
   "execution_count": 8,
   "metadata": {
    "scrolled": true
   },
   "outputs": [
    {
     "name": "stdout",
     "output_type": "stream",
     "text": [
      "총 1127757 페이지를 저장합니다.\n",
      "../raw_data/100.csv 저장했습니다.\n",
      "../raw_data/200.csv 저장했습니다.\n",
      "../raw_data/300.csv 저장했습니다.\n",
      "../raw_data/400.csv 저장했습니다.\n",
      "../raw_data/500.csv 저장했습니다.\n",
      "../raw_data/600.csv 저장했습니다.\n",
      "../raw_data/700.csv 저장했습니다.\n",
      "../raw_data/800.csv 저장했습니다.\n",
      "../raw_data/900.csv 저장했습니다.\n",
      "../raw_data/1000.csv 저장했습니다.\n"
     ]
    },
    {
     "ename": "IndexError",
     "evalue": "list index out of range",
     "output_type": "error",
     "traceback": [
      "\u001b[1;31m---------------------------------------------------------------------------\u001b[0m",
      "\u001b[1;31mIndexError\u001b[0m                                Traceback (most recent call last)",
      "\u001b[1;32m<ipython-input-8-7d55195a0711>\u001b[0m in \u001b[0;36m<module>\u001b[1;34m\u001b[0m\n\u001b[0;32m      8\u001b[0m     \u001b[0murl\u001b[0m \u001b[1;33m=\u001b[0m \u001b[0mPAGE_URL\u001b[0m \u001b[1;33m%\u001b[0m \u001b[1;33m(\u001b[0m\u001b[0mindex\u001b[0m\u001b[1;33m)\u001b[0m\u001b[1;33m\u001b[0m\u001b[0m\n\u001b[0;32m      9\u001b[0m     \u001b[0madd_list\u001b[0m \u001b[1;33m=\u001b[0m \u001b[0mscraping_rating_page\u001b[0m\u001b[1;33m(\u001b[0m\u001b[0murl\u001b[0m\u001b[1;33m)\u001b[0m\u001b[1;33m\u001b[0m\u001b[0m\n\u001b[1;32m---> 10\u001b[1;33m     \u001b[0mreview_df\u001b[0m \u001b[1;33m=\u001b[0m \u001b[0mreview_df\u001b[0m\u001b[1;33m.\u001b[0m\u001b[0mappend\u001b[0m\u001b[1;33m(\u001b[0m\u001b[0madd_list\u001b[0m\u001b[1;33m)\u001b[0m\u001b[1;33m\u001b[0m\u001b[0m\n\u001b[0m\u001b[0;32m     11\u001b[0m \u001b[1;33m\u001b[0m\u001b[0m\n\u001b[0;32m     12\u001b[0m     \u001b[1;32mif\u001b[0m \u001b[1;33m(\u001b[0m\u001b[0mindex\u001b[0m \u001b[1;33m%\u001b[0m \u001b[1;36m100\u001b[0m\u001b[1;33m)\u001b[0m \u001b[1;33m==\u001b[0m \u001b[1;36m0\u001b[0m\u001b[1;33m:\u001b[0m\u001b[1;33m\u001b[0m\u001b[0m\n",
      "\u001b[1;32mD:\\Anaconda3\\envs\\dev-tensorflow\\lib\\site-packages\\pandas\\core\\frame.py\u001b[0m in \u001b[0;36mappend\u001b[1;34m(self, other, ignore_index, verify_integrity, sort)\u001b[0m\n\u001b[0;32m   6197\u001b[0m             \u001b[1;32mif\u001b[0m \u001b[1;32mnot\u001b[0m \u001b[0mself\u001b[0m\u001b[1;33m.\u001b[0m\u001b[0mcolumns\u001b[0m\u001b[1;33m.\u001b[0m\u001b[0mequals\u001b[0m\u001b[1;33m(\u001b[0m\u001b[0mcombined_columns\u001b[0m\u001b[1;33m)\u001b[0m\u001b[1;33m:\u001b[0m\u001b[1;33m\u001b[0m\u001b[0m\n\u001b[0;32m   6198\u001b[0m                 \u001b[0mself\u001b[0m \u001b[1;33m=\u001b[0m \u001b[0mself\u001b[0m\u001b[1;33m.\u001b[0m\u001b[0mreindex\u001b[0m\u001b[1;33m(\u001b[0m\u001b[0mcolumns\u001b[0m\u001b[1;33m=\u001b[0m\u001b[0mcombined_columns\u001b[0m\u001b[1;33m)\u001b[0m\u001b[1;33m\u001b[0m\u001b[0m\n\u001b[1;32m-> 6199\u001b[1;33m         \u001b[1;32melif\u001b[0m \u001b[0misinstance\u001b[0m\u001b[1;33m(\u001b[0m\u001b[0mother\u001b[0m\u001b[1;33m,\u001b[0m \u001b[0mlist\u001b[0m\u001b[1;33m)\u001b[0m \u001b[1;32mand\u001b[0m \u001b[1;32mnot\u001b[0m \u001b[0misinstance\u001b[0m\u001b[1;33m(\u001b[0m\u001b[0mother\u001b[0m\u001b[1;33m[\u001b[0m\u001b[1;36m0\u001b[0m\u001b[1;33m]\u001b[0m\u001b[1;33m,\u001b[0m \u001b[0mDataFrame\u001b[0m\u001b[1;33m)\u001b[0m\u001b[1;33m:\u001b[0m\u001b[1;33m\u001b[0m\u001b[0m\n\u001b[0m\u001b[0;32m   6200\u001b[0m             \u001b[0mother\u001b[0m \u001b[1;33m=\u001b[0m \u001b[0mDataFrame\u001b[0m\u001b[1;33m(\u001b[0m\u001b[0mother\u001b[0m\u001b[1;33m)\u001b[0m\u001b[1;33m\u001b[0m\u001b[0m\n\u001b[0;32m   6201\u001b[0m             \u001b[1;32mif\u001b[0m \u001b[1;33m(\u001b[0m\u001b[0mself\u001b[0m\u001b[1;33m.\u001b[0m\u001b[0mcolumns\u001b[0m\u001b[1;33m.\u001b[0m\u001b[0mget_indexer\u001b[0m\u001b[1;33m(\u001b[0m\u001b[0mother\u001b[0m\u001b[1;33m.\u001b[0m\u001b[0mcolumns\u001b[0m\u001b[1;33m)\u001b[0m \u001b[1;33m>=\u001b[0m \u001b[1;36m0\u001b[0m\u001b[1;33m)\u001b[0m\u001b[1;33m.\u001b[0m\u001b[0mall\u001b[0m\u001b[1;33m(\u001b[0m\u001b[1;33m)\u001b[0m\u001b[1;33m:\u001b[0m\u001b[1;33m\u001b[0m\u001b[0m\n",
      "\u001b[1;31mIndexError\u001b[0m: list index out of range"
     ]
    }
   ],
   "source": [
    "review_df = pd.DataFrame(columns=('num', 'point', 'title', 'review'))\n",
    "review_file = '../raw_data/%s.csv'\n",
    "\n",
    "total_page_count = count_page(BASE_URL)\n",
    "print('총 %s 페이지를 저장합니다.' % total_page_count)\n",
    "\n",
    "for index in range(1, total_page_count):\n",
    "    url = PAGE_URL % (index)\n",
    "    add_list = scraping_rating_page(url)    \n",
    "    review_df = review_df.append(add_list)\n",
    "    \n",
    "    if (index % 100) == 0:\n",
    "        # 저장\n",
    "        file_name = review_file % index\n",
    "        review_df.to_csv(file_name, index=False, header=True)        \n",
    "        print(file_name, '저장했습니다.')\n",
    "        \n",
    "        # 초기화\n",
    "        review_df = pd.DataFrame(columns=('num', 'point', 'title', 'review'))"
   ]
  },
  {
   "cell_type": "markdown",
   "metadata": {},
   "source": [
    "에러가 발생합니다! 왜 일까요?"
   ]
  },
  {
   "cell_type": "markdown",
   "metadata": {},
   "source": [
    "사실 빈 리스트는 저장하지 않도록 에러처리를 한다면 발생하지 않았을 에러..."
   ]
  },
  {
   "cell_type": "markdown",
   "metadata": {},
   "source": [
    "네이버 리뷰 사이트로 이동해본다."
   ]
  }
 ],
 "metadata": {
  "kernelspec": {
   "display_name": "Python 3",
   "language": "python",
   "name": "python3"
  },
  "language_info": {
   "codemirror_mode": {
    "name": "ipython",
    "version": 3
   },
   "file_extension": ".py",
   "mimetype": "text/x-python",
   "name": "python",
   "nbconvert_exporter": "python",
   "pygments_lexer": "ipython3",
   "version": "3.6.6"
  }
 },
 "nbformat": 4,
 "nbformat_minor": 2
}
