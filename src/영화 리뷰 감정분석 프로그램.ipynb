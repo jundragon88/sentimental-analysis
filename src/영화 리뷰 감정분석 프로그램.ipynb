{
 "cells": [
  {
   "cell_type": "markdown",
   "metadata": {},
   "source": [
    "# BiLSTM을 이용한 영화 리뷰 감정 분석\n",
    "Word2Vec을 통해 임베딩 된 네이버 영화 리뷰 데이터를 BiLSTM을 통해 긍정, 부정을 분류해주는 예제\n"
   ]
  },
  {
   "cell_type": "code",
   "execution_count": 2,
   "metadata": {},
   "outputs": [],
   "source": [
    "import os\n",
    "import tensorflow as tf\n",
    "import Bi_LSTM\n",
    "import Word2Vec\n",
    "import gensim\n",
    "import numpy as np"
   ]
  },
  {
   "cell_type": "code",
   "execution_count": 3,
   "metadata": {},
   "outputs": [],
   "source": [
    "WORD2VEC_MODEL = \"../data/Word2Vec.model\"\n",
    "BILSTM_MODEL = \"../data/BiLSTM_model.ckpt\""
   ]
  },
  {
   "cell_type": "code",
   "execution_count": 4,
   "metadata": {},
   "outputs": [],
   "source": [
    "W2V = Word2Vec.Word2Vec()"
   ]
  },
  {
   "cell_type": "code",
   "execution_count": 5,
   "metadata": {},
   "outputs": [],
   "source": [
    "Batch_size = 1\n",
    "Vector_size = 300\n",
    "Maxseq_length = 95   ## Max length of training data\n",
    "learning_rate = 0.001\n",
    "lstm_units = 128\n",
    "num_class = 2\n",
    "keep_prob = 1.0"
   ]
  },
  {
   "cell_type": "code",
   "execution_count": 6,
   "metadata": {},
   "outputs": [],
   "source": [
    "X = tf.placeholder(tf.float32, shape = [None, Maxseq_length, Vector_size], name = 'X')\n",
    "Y = tf.placeholder(tf.float32, shape = [None, num_class], name = 'Y')\n",
    "seq_len = tf.placeholder(tf.int32, shape = [None])"
   ]
  },
  {
   "cell_type": "code",
   "execution_count": 7,
   "metadata": {},
   "outputs": [],
   "source": [
    "BiLSTM = Bi_LSTM.Bi_LSTM(lstm_units, num_class, keep_prob)"
   ]
  },
  {
   "cell_type": "code",
   "execution_count": 8,
   "metadata": {},
   "outputs": [],
   "source": [
    "with tf.variable_scope(\"loss\", reuse = tf.AUTO_REUSE):\n",
    "    logits = BiLSTM.logits(X, BiLSTM.W, BiLSTM.b, seq_len)\n",
    "    loss, optimizer = BiLSTM.model_build(logits, Y, learning_rate)"
   ]
  },
  {
   "cell_type": "code",
   "execution_count": 9,
   "metadata": {},
   "outputs": [],
   "source": [
    "#tf.nn.softmax?"
   ]
  },
  {
   "cell_type": "code",
   "execution_count": 10,
   "metadata": {},
   "outputs": [],
   "source": [
    "#tf.variable_scope?"
   ]
  },
  {
   "cell_type": "code",
   "execution_count": 11,
   "metadata": {},
   "outputs": [],
   "source": [
    "prediction = tf.nn.softmax(logits)"
   ]
  },
  {
   "cell_type": "code",
   "execution_count": 12,
   "metadata": {},
   "outputs": [],
   "source": [
    "def Convert2Vec(model_name, sentence):    \n",
    "    word_vec = []\n",
    "    sub = []\n",
    "    model = gensim.models.word2vec.Word2Vec.load(model_name)\n",
    "    for word in sentence:\n",
    "        if(word in model.wv.vocab):\n",
    "            sub.append(model.wv[word])\n",
    "        else:\n",
    "            sub.append(np.random.uniform(-0.25,0.25,300)) ## used for OOV words\n",
    "    word_vec.append(sub)\n",
    "    return word_vec"
   ]
  },
  {
   "cell_type": "code",
   "execution_count": 13,
   "metadata": {},
   "outputs": [],
   "source": [
    "saver = tf.train.Saver()\n",
    "init = tf.global_variables_initializer()\n",
    "modelName = BILSTM_MODEL"
   ]
  },
  {
   "cell_type": "code",
   "execution_count": 14,
   "metadata": {},
   "outputs": [
    {
     "name": "stdout",
     "output_type": "stream",
     "text": [
      "INFO:tensorflow:Restoring parameters from ../data/BiLSTM_model.ckpt\n"
     ]
    }
   ],
   "source": [
    "sess = tf.Session()\n",
    "sess.run(init)\n",
    "saver.restore(sess, modelName)"
   ]
  },
  {
   "cell_type": "code",
   "execution_count": 25,
   "metadata": {},
   "outputs": [],
   "source": [
    "def Grade(sentence):\n",
    "\n",
    "    tokens = W2V.tokenize(sentence)\n",
    "    \n",
    "    embedding = Convert2Vec(WORD2VEC_MODEL, tokens)\n",
    "    zero_pad = W2V.Zero_padding(embedding, Batch_size, Maxseq_length, Vector_size)\n",
    "    \n",
    "    global sess\n",
    "    #result =  sess.run(tf.argmax(prediction,1), feed_dict = {X: zero_pad , seq_len: [len(tokens)] })\n",
    "    result =  sess.run(prediction, feed_dict = {X: zero_pad , seq_len: [len(tokens)] })\n",
    "    category = sess.run(tf.argmax(prediction,1), feed_dict = {X: zero_pad , seq_len: [len(tokens)] })\n",
    "    \n",
    "    if(category == 1):\n",
    "        print(\"리뷰는 긍정입니다.\", result)\n",
    "    else:\n",
    "        print(\"리뷰는 부정입니다.\", result)\n",
    "        \n",
    "    print(np.shape(result))\n",
    "    print(result[0][1])"
   ]
  },
  {
   "cell_type": "code",
   "execution_count": 26,
   "metadata": {},
   "outputs": [
    {
     "name": "stdout",
     "output_type": "stream",
     "text": [
      "리뷰는 긍정입니다. [[0.12218965 0.8778103 ]]\n",
      "(1, 2)\n",
      "0.8778103\n"
     ]
    }
   ],
   "source": [
    "Grade(\"재미있어요\")"
   ]
  },
  {
   "cell_type": "code",
   "execution_count": null,
   "metadata": {},
   "outputs": [
    {
     "name": "stdout",
     "output_type": "stream",
     "text": [
      "문장을 입력하세요 : 재밌네요!?!?\n",
      "리뷰는 긍정입니다. [[0.44553402 0.5544659 ]]\n",
      "(1, 2)\n",
      "0.5544659\n"
     ]
    }
   ],
   "source": [
    "while(1):\n",
    "    s = input(\"문장을 입력하세요 : \")\n",
    "    if(s == str(1)):\n",
    "        break\n",
    "    else:\n",
    "        Grade(s)"
   ]
  },
  {
   "cell_type": "code",
   "execution_count": null,
   "metadata": {},
   "outputs": [],
   "source": []
  }
 ],
 "metadata": {
  "kernelspec": {
   "display_name": "Python 3",
   "language": "python",
   "name": "python3"
  },
  "language_info": {
   "codemirror_mode": {
    "name": "ipython",
    "version": 3
   },
   "file_extension": ".py",
   "mimetype": "text/x-python",
   "name": "python",
   "nbconvert_exporter": "python",
   "pygments_lexer": "ipython3",
   "version": "3.6.6"
  }
 },
 "nbformat": 4,
 "nbformat_minor": 2
}
