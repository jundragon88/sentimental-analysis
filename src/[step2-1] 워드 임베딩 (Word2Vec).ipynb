{
 "cells": [
  {
   "cell_type": "markdown",
   "metadata": {},
   "source": [
    "# 스크래핑한 데이터를 인공지능이 학습하도록 전처리합니다.\n",
    "\n",
    "설치시 필요한 것\n",
    "- konlpy : tokenize (품사태깅) 목적 -> 설치가 조금 어려워요...\n",
    "- gensim : embedding (워드 임베딩) 목적\n",
    "\n",
    "\n",
    "1. 품사 태깅\n",
    "2. 워드 임베딩\n"
   ]
  },
  {
   "cell_type": "code",
   "execution_count": 1,
   "metadata": {},
   "outputs": [
    {
     "name": "stderr",
     "output_type": "stream",
     "text": [
      "D:\\Anaconda3\\envs\\dev-tensorflow\\lib\\site-packages\\gensim\\utils.py:1197: UserWarning: detected Windows; aliasing chunkize to chunkize_serial\n",
      "  warnings.warn(\"detected Windows; aliasing chunkize to chunkize_serial\")\n"
     ]
    }
   ],
   "source": [
    "from konlpy.tag import Twitter\n",
    "import gensim\n",
    "import tensorflow as tf\n",
    "\n",
    "import numpy as np\n",
    "import pandas as pd"
   ]
  },
  {
   "cell_type": "code",
   "execution_count": 2,
   "metadata": {},
   "outputs": [],
   "source": [
    "def read_data(filename):    \n",
    "    with open(filename, 'r',encoding='utf-8') as fp:\n",
    "        data = [line.split('\\t') for line in fp.read().splitlines()]        \n",
    "        data = data[1:]   # header 제외 #    \n",
    "    return data"
   ]
  },
  {
   "cell_type": "code",
   "execution_count": 3,
   "metadata": {},
   "outputs": [],
   "source": [
    "train_data = read_data(\"../data/ratings_train.txt\")\n",
    "test_data = read_data(\"../data/ratings_test.txt\")"
   ]
  },
  {
   "cell_type": "code",
   "execution_count": 4,
   "metadata": {},
   "outputs": [
    {
     "data": {
      "text/plain": [
       "[['9976970', '아 더빙.. 진짜 짜증나네요 목소리', '0'],\n",
       " ['3819312', '흠...포스터보고 초딩영화줄....오버연기조차 가볍지 않구나', '1'],\n",
       " ['10265843', '너무재밓었다그래서보는것을추천한다', '0'],\n",
       " ['9045019', '교도소 이야기구먼 ..솔직히 재미는 없다..평점 조정', '0'],\n",
       " ['6483659',\n",
       "  '사이몬페그의 익살스런 연기가 돋보였던 영화!스파이더맨에서 늙어보이기만 했던 커스틴 던스트가 너무나도 이뻐보였다',\n",
       "  '1']]"
      ]
     },
     "execution_count": 4,
     "metadata": {},
     "output_type": "execute_result"
    }
   ],
   "source": [
    "train_data[:5]"
   ]
  },
  {
   "cell_type": "code",
   "execution_count": 5,
   "metadata": {
    "scrolled": true
   },
   "outputs": [
    {
     "data": {
      "text/plain": [
       "[['6270596', '굳 ㅋ', '1'],\n",
       " ['9274899', 'GDNTOPCLASSINTHECLUB', '0'],\n",
       " ['8544678', '뭐야 이 평점들은.... 나쁘진 않지만 10점 짜리는 더더욱 아니잖아', '0'],\n",
       " ['6825595', '지루하지는 않은데 완전 막장임... 돈주고 보기에는....', '0'],\n",
       " ['6723715', '3D만 아니었어도 별 다섯 개 줬을텐데.. 왜 3D로 나와서 제 심기를 불편하게 하죠??', '0']]"
      ]
     },
     "execution_count": 5,
     "metadata": {},
     "output_type": "execute_result"
    }
   ],
   "source": [
    "test_data[:5]"
   ]
  },
  {
   "cell_type": "markdown",
   "metadata": {},
   "source": [
    "# 1. 품사 태깅"
   ]
  },
  {
   "cell_type": "code",
   "execution_count": 6,
   "metadata": {
    "scrolled": true
   },
   "outputs": [
    {
     "name": "stderr",
     "output_type": "stream",
     "text": [
      "D:\\Anaconda3\\envs\\dev-tensorflow\\lib\\site-packages\\konlpy\\tag\\_okt.py:16: UserWarning: \"Twitter\" has changed to \"Okt\" since KoNLPy v0.4.5.\n",
      "  warn('\"Twitter\" has changed to \"Okt\" since KoNLPy v0.4.5.')\n"
     ]
    }
   ],
   "source": [
    "pos_tagger = Twitter()\n",
    "\n",
    "def tokenize(doc):\n",
    "    return ['/'.join(t) for t in pos_tagger.pos(doc, norm=True, stem=True)]"
   ]
  },
  {
   "cell_type": "code",
   "execution_count": 7,
   "metadata": {},
   "outputs": [],
   "source": [
    "tokens = [tokenize(row[1]) for row in train_data]"
   ]
  },
  {
   "cell_type": "code",
   "execution_count": 8,
   "metadata": {},
   "outputs": [
    {
     "data": {
      "text/plain": [
       "[['9976970', '아 더빙.. 진짜 짜증나네요 목소리', '0'],\n",
       " ['3819312', '흠...포스터보고 초딩영화줄....오버연기조차 가볍지 않구나', '1']]"
      ]
     },
     "execution_count": 8,
     "metadata": {},
     "output_type": "execute_result"
    }
   ],
   "source": [
    "train_data[:2]"
   ]
  },
  {
   "cell_type": "code",
   "execution_count": 9,
   "metadata": {},
   "outputs": [
    {
     "data": {
      "text/plain": [
       "[['아/Exclamation',\n",
       "  '더빙/Noun',\n",
       "  '../Punctuation',\n",
       "  '진짜/Noun',\n",
       "  '짜증나다/Adjective',\n",
       "  '목소리/Noun'],\n",
       " ['흠/Noun',\n",
       "  '.../Punctuation',\n",
       "  '포스터/Noun',\n",
       "  '보고/Noun',\n",
       "  '초딩/Noun',\n",
       "  '영화/Noun',\n",
       "  '줄/Noun',\n",
       "  '..../Punctuation',\n",
       "  '오버/Noun',\n",
       "  '연기/Noun',\n",
       "  '조차/Josa',\n",
       "  '가볍다/Adjective',\n",
       "  '않다/Verb']]"
      ]
     },
     "execution_count": 9,
     "metadata": {},
     "output_type": "execute_result"
    }
   ],
   "source": [
    "tokens[:2]"
   ]
  },
  {
   "cell_type": "markdown",
   "metadata": {},
   "source": [
    "# 2. 워드 임베딩\n",
    " - min_alpha : training 됨에 따라 줄어든 learning_rate\n",
    " - alpha : initial learning rate\n",
    " - learning_rate decay 해줌\n",
    " "
   ]
  },
  {
   "cell_type": "code",
   "execution_count": 10,
   "metadata": {},
   "outputs": [
    {
     "name": "stderr",
     "output_type": "stream",
     "text": [
      "D:\\Anaconda3\\envs\\dev-tensorflow\\lib\\site-packages\\ipykernel_launcher.py:5: DeprecationWarning: Call to deprecated `iter` (Attribute will be removed in 4.0.0, use self.epochs instead).\n",
      "  \"\"\"\n"
     ]
    }
   ],
   "source": [
    "model = gensim.models.Word2Vec(size=300, sg = 1, alpha=0.025, min_alpha=0.025, seed=1234)\n",
    "model.build_vocab(tokens)\n",
    "\n",
    "for epoch in range(30):           \n",
    "    model.train(tokens,model.corpus_count,epochs = model.iter)\n",
    "    model.alpha -= 0.002\n",
    "    model.min_alpha = model.alpha"
   ]
  },
  {
   "cell_type": "code",
   "execution_count": 11,
   "metadata": {},
   "outputs": [
    {
     "name": "stderr",
     "output_type": "stream",
     "text": [
      "D:\\Anaconda3\\envs\\dev-tensorflow\\lib\\site-packages\\ipykernel_launcher.py:2: DeprecationWarning: Call to deprecated `most_similar` (Method will be removed in 4.0.0, use self.wv.most_similar() instead).\n",
      "  \n"
     ]
    },
    {
     "data": {
      "text/plain": [
       "[('../Punctuation', 0.9119613170623779),\n",
       " ('이/Josa', 0.8820630311965942),\n",
       " ('의/Josa', 0.8638195991516113),\n",
       " ('도/Josa', 0.863292932510376),\n",
       " ('는/Josa', 0.8534328937530518),\n",
       " ('것/Noun', 0.8118099570274353),\n",
       " ('만/Josa', 0.7741988301277161),\n",
       " ('내용/Noun', 0.7594603300094604),\n",
       " ('이다/Josa', 0.7448990345001221),\n",
       " ('평점/Noun', 0.7405540347099304),\n",
       " ('판타지영화/Noun', -0.32529205083847046),\n",
       " ('폰부스/Noun', -0.32803165912628174),\n",
       " ('만인/Noun', -0.33895355463027954),\n",
       " ('남아돌다/Verb', -0.33979544043540955),\n",
       " ('저예산영화/Noun', -0.3481564223766327),\n",
       " ('찍기/Noun', -0.35146015882492065),\n",
       " ('식스센스/Noun', -0.35187458992004395),\n",
       " ('대요/Noun', -0.3543408215045929),\n",
       " ('평정/Noun', -0.3548148274421692),\n",
       " ('과제/Noun', -0.35503286123275757)]"
      ]
     },
     "execution_count": 11,
     "metadata": {},
     "output_type": "execute_result"
    }
   ],
   "source": [
    "model.save(\"../data/word2vec.model\")\n",
    "model.most_similar('영화/Noun',topn = 20)  ## topn = len(model.wv.vocab)"
   ]
  }
 ],
 "metadata": {
  "kernelspec": {
   "display_name": "Python 3",
   "language": "python",
   "name": "python3"
  },
  "language_info": {
   "codemirror_mode": {
    "name": "ipython",
    "version": 3
   },
   "file_extension": ".py",
   "mimetype": "text/x-python",
   "name": "python",
   "nbconvert_exporter": "python",
   "pygments_lexer": "ipython3",
   "version": "3.6.6"
  }
 },
 "nbformat": 4,
 "nbformat_minor": 2
}
