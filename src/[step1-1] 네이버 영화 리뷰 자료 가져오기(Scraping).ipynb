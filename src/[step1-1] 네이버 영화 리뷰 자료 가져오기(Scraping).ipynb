{
 "cells": [
  {
   "cell_type": "markdown",
   "metadata": {},
   "source": [
    "# 네이버 영화 140자평 리뷰 자료 스크레이핑 프로토타입\n",
    "\n",
    "\n",
    "네이버 영화 웹 서비스의 평점과 140자평 데이터를 스크레이핑하여 데이터 셋으로 만드는 예제입니다.\n",
    "\n",
    "- 네티즌 평점 / 140자평 : https://movie.naver.com/movie/point/af/list.nhn?target=after\n",
    "\n",
    "\n",
    "step 1. 평점 개수 확인\n",
    "\n",
    ">#old_content > h5 > div > strong\n",
    "\n",
    "step 2. 데이터셋 생성\n",
    "\n",
    "step 3. 데이터 저장"
   ]
  },
  {
   "cell_type": "markdown",
   "metadata": {},
   "source": [
    "가끔 한글이 깨지는 경우가 있습니다. 아래 두줄의 코드를 넣어줍니다."
   ]
  },
  {
   "cell_type": "code",
   "execution_count": 1,
   "metadata": {},
   "outputs": [],
   "source": [
    "#! /usr/bin/python3\n",
    "# -*- coding: utf-8 -*-"
   ]
  },
  {
   "cell_type": "markdown",
   "metadata": {},
   "source": [
    "**라이브러리 import**"
   ]
  },
  {
   "cell_type": "code",
   "execution_count": 2,
   "metadata": {},
   "outputs": [],
   "source": [
    "import numpy as np\n",
    "import pandas as pd\n",
    " \n",
    "import urllib.request as req\n",
    "import re # 정규식 관련 라이브러리\n",
    "from bs4 import BeautifulSoup # html 파싱용 라이브러리"
   ]
  },
  {
   "cell_type": "code",
   "execution_count": 3,
   "metadata": {},
   "outputs": [],
   "source": [
    "BASE_URL = \"https://movie.naver.com/movie/point/af/list.nhn?target=after\"\n",
    "PAGE_URL = BASE_URL + \"?&page=%s\""
   ]
  },
  {
   "cell_type": "markdown",
   "metadata": {},
   "source": [
    "**리뷰 페이지가 몇개인지 먼저 확인합니다.**"
   ]
  },
  {
   "cell_type": "code",
   "execution_count": 4,
   "metadata": {},
   "outputs": [
    {
     "data": {
      "text/plain": [
       "11277547"
      ]
     },
     "execution_count": 4,
     "metadata": {},
     "output_type": "execute_result"
    }
   ],
   "source": [
    "html = req.urlopen(BASE_URL)\n",
    "soup = BeautifulSoup(html, \"html.parser\")\n",
    "\n",
    "review_count = soup.select(\"#old_content > h5 > div > strong\")\n",
    "review_count = int(review_count[0].string)\n",
    "\n",
    "review_count"
   ]
  },
  {
   "cell_type": "code",
   "execution_count": 5,
   "metadata": {},
   "outputs": [
    {
     "data": {
      "text/plain": [
       "1127755"
      ]
     },
     "execution_count": 5,
     "metadata": {},
     "output_type": "execute_result"
    }
   ],
   "source": [
    "page_count = int(np.ceil(review_count / 10)) # 한 페이지당 10개의 게시글\n",
    "page_count"
   ]
  },
  {
   "cell_type": "markdown",
   "metadata": {},
   "source": [
    "**테스트용 1페이지 파싱**"
   ]
  },
  {
   "cell_type": "code",
   "execution_count": 6,
   "metadata": {},
   "outputs": [
    {
     "data": {
      "text/plain": [
       "'https://movie.naver.com/movie/point/af/list.nhn?target=after?&page=1'"
      ]
     },
     "execution_count": 6,
     "metadata": {},
     "output_type": "execute_result"
    }
   ],
   "source": [
    "page_num = 1\n",
    "URL = PAGE_URL % page_num\n",
    "URL"
   ]
  },
  {
   "cell_type": "code",
   "execution_count": 7,
   "metadata": {},
   "outputs": [],
   "source": [
    "res = req.urlopen(URL)\n",
    "soup = BeautifulSoup(res, \"html.parser\")"
   ]
  },
  {
   "cell_type": "code",
   "execution_count": 8,
   "metadata": {},
   "outputs": [],
   "source": [
    "test_tr = soup.find_all('tr')"
   ]
  },
  {
   "cell_type": "markdown",
   "metadata": {},
   "source": [
    "**첫번째 행은 Header 정보입니다.**"
   ]
  },
  {
   "cell_type": "code",
   "execution_count": 21,
   "metadata": {},
   "outputs": [
    {
     "data": {
      "text/plain": [
       "[<tr>\n",
       " <th>번호</th>\n",
       " <th colspan=\"2\">평점</th>\n",
       " <th>140자평</th>\n",
       " <th class=\"al\"><span class=\"th_m1\">글쓴이·날짜</span></th>\n",
       " </tr>, <tr>\n",
       " <td class=\"ac num\">14777316</td>\n",
       " <td><div class=\"fr point_type_n\"><div class=\"mask\" style=\"width:100.0%\"></div></div></td>\n",
       " <td class=\"point\">10</td>\n",
       " <td class=\"title\">\n",
       " <a class=\"movie\" href=\"?st=mcode&amp;sword=168050&amp;target=after\">스타 이즈 본</a>\n",
       " <br/>이 영화에서야말로...진짜 스타 탄생!!! \n",
       " \t\t\t\n",
       " \t\t\t\n",
       " \t\t\t\n",
       " \t\t\t\t\n",
       " \t\t\t\t\n",
       " \t\t\t\t\n",
       " \t\t\t\t<a class=\"report\" href=\"javascript:report('lees****', 'qfddv0dS0RS/fee4R9E8fX1QKUk1t502uV8m6+dqpeE=', '이 영화에서야말로...진짜 스타 탄생!!!', '14777316', 'point_after');\" style=\"color:#8F8F8F\">신고</a>\n",
       " </td>\n",
       " <td class=\"num\"><a class=\"author\" href=\"javascript:find_list('nickname','14777316','after');\">lees****</a><br/>18.10.26</td>\n",
       " </tr>]"
      ]
     },
     "execution_count": 21,
     "metadata": {},
     "output_type": "execute_result"
    }
   ],
   "source": [
    "test_tr[:2]"
   ]
  },
  {
   "cell_type": "markdown",
   "metadata": {},
   "source": [
    "## 여기서 필요한 것만 파싱합니다.\n",
    "\n",
    "1. 리뷰 번호\n",
    "2. 리뷰 평점\n",
    "3. 영화 제목\n",
    "4. 영화 리뷰"
   ]
  },
  {
   "cell_type": "markdown",
   "metadata": {},
   "source": [
    "### 1. 리뷰 번호"
   ]
  },
  {
   "cell_type": "code",
   "execution_count": 22,
   "metadata": {},
   "outputs": [
    {
     "data": {
      "text/plain": [
       "'14777316'"
      ]
     },
     "execution_count": 22,
     "metadata": {},
     "output_type": "execute_result"
    }
   ],
   "source": [
    "test_num = test_tr[1].find('td', {'class':'ac num'})\n",
    "test_num = test_num.text\n",
    "test_num"
   ]
  },
  {
   "cell_type": "markdown",
   "metadata": {},
   "source": [
    "### 2. 리뷰 평점"
   ]
  },
  {
   "cell_type": "code",
   "execution_count": 23,
   "metadata": {},
   "outputs": [
    {
     "data": {
      "text/plain": [
       "'10'"
      ]
     },
     "execution_count": 23,
     "metadata": {},
     "output_type": "execute_result"
    }
   ],
   "source": [
    "test_point = test_tr[1].find('td', {'class':'point'})\n",
    "test_point = test_point.text\n",
    "test_point"
   ]
  },
  {
   "cell_type": "markdown",
   "metadata": {},
   "source": [
    "### 3. 영화 제목"
   ]
  },
  {
   "cell_type": "code",
   "execution_count": 24,
   "metadata": {},
   "outputs": [
    {
     "data": {
      "text/plain": [
       "'\\n스타 이즈 본\\n이 영화에서야말로...진짜 스타 탄생!!! \\r\\n\\t\\t\\t\\r\\n\\t\\t\\t\\r\\n\\t\\t\\t\\r\\n\\t\\t\\t\\t\\r\\n\\t\\t\\t\\t\\r\\n\\t\\t\\t\\t\\r\\n\\t\\t\\t\\t신고\\n'"
      ]
     },
     "execution_count": 24,
     "metadata": {},
     "output_type": "execute_result"
    }
   ],
   "source": [
    "test_movie_info = test_tr[1].find('td', {'class':'title'})\n",
    "test_movie_info = test_movie_info.text\n",
    "test_movie_info"
   ]
  },
  {
   "cell_type": "code",
   "execution_count": 25,
   "metadata": {},
   "outputs": [],
   "source": [
    "movielist = test_movie_info.split('\\n')"
   ]
  },
  {
   "cell_type": "code",
   "execution_count": 26,
   "metadata": {},
   "outputs": [
    {
     "data": {
      "text/plain": [
       "'스타 이즈 본'"
      ]
     },
     "execution_count": 26,
     "metadata": {},
     "output_type": "execute_result"
    }
   ],
   "source": [
    "test_title = movielist[1].strip()\n",
    "test_title"
   ]
  },
  {
   "cell_type": "markdown",
   "metadata": {},
   "source": [
    "### 4. 영화 리뷰"
   ]
  },
  {
   "cell_type": "code",
   "execution_count": 27,
   "metadata": {},
   "outputs": [
    {
     "data": {
      "text/plain": [
       "'이 영화에서야말로...진짜 스타 탄생!!!'"
      ]
     },
     "execution_count": 27,
     "metadata": {},
     "output_type": "execute_result"
    }
   ],
   "source": [
    "test_review = movielist[2].strip()\n",
    "test_review"
   ]
  },
  {
   "cell_type": "markdown",
   "metadata": {},
   "source": [
    "## 파싱 함수 만들기\n",
    "\n",
    "위의 내용을 토대로 파싱 함수를 만듭니다."
   ]
  },
  {
   "cell_type": "code",
   "execution_count": 28,
   "metadata": {},
   "outputs": [],
   "source": [
    "def parse_item(item):\n",
    "    # return 리뷰번호, 평점, 영화제목, 영화리뷰\n",
    "    # num, point, title, review\n",
    "    \n",
    "    _num = item.find('td', {'class':'ac num'})\n",
    "    _num = _num.text\n",
    "\n",
    "    _point = item.find('td', {'class':'point'})\n",
    "    _point = _point.text\n",
    "    \n",
    "    movie_info = item.find('td', {'class':'title'})\n",
    "    movie_info = movie_info.text\n",
    "    movie_info = movie_info.split('\\n')\n",
    "    \n",
    "    _title = movie_info[1].strip()\n",
    "    _review = movie_info[2].strip()\n",
    "          \n",
    "    return {'num': _num, 'point': _point, 'title': _title, 'review': _review}"
   ]
  },
  {
   "cell_type": "code",
   "execution_count": 29,
   "metadata": {},
   "outputs": [],
   "source": [
    "def scraping_rating_page(url):   \n",
    "    html = req.urlopen(url)\n",
    "    soup = BeautifulSoup(html, 'html')\n",
    "    \n",
    "    items = soup.findAll('tr')\n",
    "    items = items[1:] # 첫번째 행은 header 이므로 제거합니다.\n",
    "\n",
    "    return list(filter(None, [parse_item(item) for item in items]))"
   ]
  },
  {
   "cell_type": "code",
   "execution_count": 32,
   "metadata": {},
   "outputs": [
    {
     "data": {
      "text/plain": [
       "[{'num': '14777326',\n",
       "  'point': '10',\n",
       "  'title': '호밀밭의 반항아',\n",
       "  'review': '아집불통 성실은, 고집불통 재능과 권력을 이긴다.'},\n",
       " {'num': '14777325',\n",
       "  'point': '8',\n",
       "  'title': '창궐',\n",
       "  'review': '기대안하고 봤는데  잼있었어요~현빈 액션씬넘나 멋짐~장동건 악역연기도 굿~~'},\n",
       " {'num': '14777324',\n",
       "  'point': '1',\n",
       "  'title': '창궐',\n",
       "  'review': '알바들한테 속는 흑우들 없제?'},\n",
       " {'num': '14777323',\n",
       "  'point': '10',\n",
       "  'title': '창궐',\n",
       "  'review': '이영화~볼만하네요 현빈최고 입니다'},\n",
       " {'num': '14777322',\n",
       "  'point': '10',\n",
       "  'title': '창궐',\n",
       "  'review': '장동건이 용복입고 나왔을때 포스 ㄷㄷ'},\n",
       " {'num': '14777321',\n",
       "  'point': '7',\n",
       "  'title': '창궐',\n",
       "  'review': '오락성으로 충분히 볼만한 영화다 그리고 웹툰 원작에 충실하게 만들었네 무조건 10점 알바도 있지만 그렇다고 1점 테러는 뭐냐;; 네이버는 아이디당 1달에 한번만 평점 할수 있게 만들어라'},\n",
       " {'num': '14777320',\n",
       "  'point': '1',\n",
       "  'title': '창궐',\n",
       "  'review': '엑스트라들이 웃으면서 전투참여하더라 ㅋㅋㅋ웃겨라. .'},\n",
       " {'num': '14777319',\n",
       "  'point': '8',\n",
       "  'title': '인크레더블 2',\n",
       "  'review': '너무나 잼있는 가족히어로물~ 대사도 촌철살인~  가족같에 있을 수 있는 일들을 참 리얼하게 묘사했다^^'},\n",
       " {'num': '14777317', 'point': '10', 'title': '미쓰백', 'review': '으흐어어어어엉 으으윽흑흑'},\n",
       " {'num': '14777316',\n",
       "  'point': '10',\n",
       "  'title': '스타 이즈 본',\n",
       "  'review': '이 영화에서야말로...진짜 스타 탄생!!!'}]"
      ]
     },
     "execution_count": 32,
     "metadata": {},
     "output_type": "execute_result"
    }
   ],
   "source": [
    "scraping_rating_page(URL)"
   ]
  },
  {
   "cell_type": "markdown",
   "metadata": {},
   "source": [
    "**10개의 리뷰 정보가 저장되었습니다. (1페이지 분량)**"
   ]
  },
  {
   "cell_type": "code",
   "execution_count": 33,
   "metadata": {
    "scrolled": true
   },
   "outputs": [
    {
     "data": {
      "text/html": [
       "<div>\n",
       "<style scoped>\n",
       "    .dataframe tbody tr th:only-of-type {\n",
       "        vertical-align: middle;\n",
       "    }\n",
       "\n",
       "    .dataframe tbody tr th {\n",
       "        vertical-align: top;\n",
       "    }\n",
       "\n",
       "    .dataframe thead th {\n",
       "        text-align: right;\n",
       "    }\n",
       "</style>\n",
       "<table border=\"1\" class=\"dataframe\">\n",
       "  <thead>\n",
       "    <tr style=\"text-align: right;\">\n",
       "      <th></th>\n",
       "      <th>num</th>\n",
       "      <th>point</th>\n",
       "      <th>title</th>\n",
       "      <th>review</th>\n",
       "    </tr>\n",
       "  </thead>\n",
       "  <tbody>\n",
       "    <tr>\n",
       "      <th>0</th>\n",
       "      <td>14777328</td>\n",
       "      <td>4</td>\n",
       "      <td>안시성</td>\n",
       "      <td>전투신이 많아 찍을때는 힘들었을 것 같지만...대부분의 배우가 사극의 역할에는 어울...</td>\n",
       "    </tr>\n",
       "    <tr>\n",
       "      <th>1</th>\n",
       "      <td>14777327</td>\n",
       "      <td>10</td>\n",
       "      <td>펭귄 하이웨이</td>\n",
       "      <td>작은 언덕같은 가슴, 포근한 가슴... 가슴 좋아하는게 뭐가 나쁨? 가슴배구단 보면...</td>\n",
       "    </tr>\n",
       "    <tr>\n",
       "      <th>2</th>\n",
       "      <td>14777326</td>\n",
       "      <td>10</td>\n",
       "      <td>호밀밭의 반항아</td>\n",
       "      <td>아집불통 성실은, 고집불통 재능과 권력을 이긴다.</td>\n",
       "    </tr>\n",
       "    <tr>\n",
       "      <th>3</th>\n",
       "      <td>14777325</td>\n",
       "      <td>8</td>\n",
       "      <td>창궐</td>\n",
       "      <td>기대안하고 봤는데  잼있었어요~현빈 액션씬넘나 멋짐~장동건 악역연기도 굿~~</td>\n",
       "    </tr>\n",
       "    <tr>\n",
       "      <th>4</th>\n",
       "      <td>14777324</td>\n",
       "      <td>1</td>\n",
       "      <td>창궐</td>\n",
       "      <td>알바들한테 속는 흑우들 없제?</td>\n",
       "    </tr>\n",
       "    <tr>\n",
       "      <th>5</th>\n",
       "      <td>14777323</td>\n",
       "      <td>10</td>\n",
       "      <td>창궐</td>\n",
       "      <td>이영화~볼만하네요 현빈최고 입니다</td>\n",
       "    </tr>\n",
       "    <tr>\n",
       "      <th>6</th>\n",
       "      <td>14777322</td>\n",
       "      <td>10</td>\n",
       "      <td>창궐</td>\n",
       "      <td>장동건이 용복입고 나왔을때 포스 ㄷㄷ</td>\n",
       "    </tr>\n",
       "    <tr>\n",
       "      <th>7</th>\n",
       "      <td>14777321</td>\n",
       "      <td>7</td>\n",
       "      <td>창궐</td>\n",
       "      <td>오락성으로 충분히 볼만한 영화다 그리고 웹툰 원작에 충실하게 만들었네 무조건 10점...</td>\n",
       "    </tr>\n",
       "    <tr>\n",
       "      <th>8</th>\n",
       "      <td>14777320</td>\n",
       "      <td>1</td>\n",
       "      <td>창궐</td>\n",
       "      <td>엑스트라들이 웃으면서 전투참여하더라 ㅋㅋㅋ웃겨라. .</td>\n",
       "    </tr>\n",
       "    <tr>\n",
       "      <th>9</th>\n",
       "      <td>14777319</td>\n",
       "      <td>8</td>\n",
       "      <td>인크레더블 2</td>\n",
       "      <td>너무나 잼있는 가족히어로물~ 대사도 촌철살인~  가족같에 있을 수 있는 일들을 참 ...</td>\n",
       "    </tr>\n",
       "    <tr>\n",
       "      <th>10</th>\n",
       "      <td>14777317</td>\n",
       "      <td>10</td>\n",
       "      <td>미쓰백</td>\n",
       "      <td>으흐어어어어엉 으으윽흑흑</td>\n",
       "    </tr>\n",
       "    <tr>\n",
       "      <th>11</th>\n",
       "      <td>14777316</td>\n",
       "      <td>10</td>\n",
       "      <td>스타 이즈 본</td>\n",
       "      <td>이 영화에서야말로...진짜 스타 탄생!!!</td>\n",
       "    </tr>\n",
       "    <tr>\n",
       "      <th>12</th>\n",
       "      <td>14777314</td>\n",
       "      <td>1</td>\n",
       "      <td>창궐</td>\n",
       "      <td>알바들 고생많다..올해 물괴와 더불어 최악의 영화</td>\n",
       "    </tr>\n",
       "    <tr>\n",
       "      <th>13</th>\n",
       "      <td>14777313</td>\n",
       "      <td>2</td>\n",
       "      <td>창궐</td>\n",
       "      <td>야귀라! 설정이 어설퍼</td>\n",
       "    </tr>\n",
       "    <tr>\n",
       "      <th>14</th>\n",
       "      <td>14777312</td>\n",
       "      <td>6</td>\n",
       "      <td>창궐</td>\n",
       "      <td>그냥별로. 현시대와 대중입맞에 맞추려는것만 보임 시대는 조선 음악은 헐리우드 코믹요...</td>\n",
       "    </tr>\n",
       "    <tr>\n",
       "      <th>15</th>\n",
       "      <td>14777311</td>\n",
       "      <td>9</td>\n",
       "      <td>곰돌이 푸 다시 만나 행복해</td>\n",
       "      <td>어른동화 같은 느낌이에요.다들 너무 귀엽고 귀엽고 귀엽네요~~~</td>\n",
       "    </tr>\n",
       "    <tr>\n",
       "      <th>16</th>\n",
       "      <td>14777310</td>\n",
       "      <td>1</td>\n",
       "      <td>안시성</td>\n",
       "      <td>참.. 이 따위로 만들어도 돈내고 보러가는 미개인들이 있구나...하...</td>\n",
       "    </tr>\n",
       "    <tr>\n",
       "      <th>17</th>\n",
       "      <td>14777309</td>\n",
       "      <td>1</td>\n",
       "      <td>창궐</td>\n",
       "      <td>네이버 댓글 알바의 창궐</td>\n",
       "    </tr>\n",
       "    <tr>\n",
       "      <th>18</th>\n",
       "      <td>14777308</td>\n",
       "      <td>10</td>\n",
       "      <td>스타 이즈 본</td>\n",
       "      <td>사랑  + 인생  잭슨과 앨리가  만나 이루어진 새로운 세상  잭슨의 인생의 아픔이...</td>\n",
       "    </tr>\n",
       "    <tr>\n",
       "      <th>19</th>\n",
       "      <td>14777307</td>\n",
       "      <td>10</td>\n",
       "      <td>창궐</td>\n",
       "      <td>꿀잼 또보러가야지~♡</td>\n",
       "    </tr>\n",
       "    <tr>\n",
       "      <th>20</th>\n",
       "      <td>14777306</td>\n",
       "      <td>10</td>\n",
       "      <td>스타 이즈 본</td>\n",
       "      <td>망할 술과 망할 레즈... 두 배우들의 빛나는 목소리와 연기가 마지막까지 절절하게 ...</td>\n",
       "    </tr>\n",
       "    <tr>\n",
       "      <th>21</th>\n",
       "      <td>14777305</td>\n",
       "      <td>7</td>\n",
       "      <td>안시성</td>\n",
       "      <td>대부분의 한국영화가 연출이 꽝인데 비해 정말 연출력 하나만은 대박! 그러나 차라리 ...</td>\n",
       "    </tr>\n",
       "    <tr>\n",
       "      <th>22</th>\n",
       "      <td>14777304</td>\n",
       "      <td>10</td>\n",
       "      <td>스타 이즈 본</td>\n",
       "      <td>ㄴㅓ머 좋았어요ㅎㅎㅎ</td>\n",
       "    </tr>\n",
       "    <tr>\n",
       "      <th>23</th>\n",
       "      <td>14777303</td>\n",
       "      <td>7</td>\n",
       "      <td>에곤 쉴레: 욕망이 그린 그림</td>\n",
       "      <td>예술이냐 외설이냐...솔직히 상식적으로 그의 취향이나 스타일이 이해하기가 쉽진 않지...</td>\n",
       "    </tr>\n",
       "    <tr>\n",
       "      <th>24</th>\n",
       "      <td>14777302</td>\n",
       "      <td>10</td>\n",
       "      <td>윌리</td>\n",
       "      <td>역시 자동차 애니는 실망시키지 않네요 화면때깔도 좋고 재미있었네요</td>\n",
       "    </tr>\n",
       "    <tr>\n",
       "      <th>25</th>\n",
       "      <td>14777301</td>\n",
       "      <td>10</td>\n",
       "      <td>윌리</td>\n",
       "      <td>요즘 자동차 좋아하는 조카랑 재밌네 봤네요 ㅎㅎ</td>\n",
       "    </tr>\n",
       "    <tr>\n",
       "      <th>26</th>\n",
       "      <td>14777300</td>\n",
       "      <td>10</td>\n",
       "      <td>윌리</td>\n",
       "      <td>자동차 애니메이션 진짜 오랜만이라서 우리 애랑 같이 즐겁게 봤어요! ^^</td>\n",
       "    </tr>\n",
       "    <tr>\n",
       "      <th>27</th>\n",
       "      <td>14777299</td>\n",
       "      <td>10</td>\n",
       "      <td>윌리</td>\n",
       "      <td>아이들이 영화도 재밌게보고 미니카도 받아서 기분이 좋네요.</td>\n",
       "    </tr>\n",
       "    <tr>\n",
       "      <th>28</th>\n",
       "      <td>14777298</td>\n",
       "      <td>10</td>\n",
       "      <td>윌리</td>\n",
       "      <td>남아들이 딱 좋아할 영화ㅎㅎ 재밌게 봤습니다~!!</td>\n",
       "    </tr>\n",
       "    <tr>\n",
       "      <th>29</th>\n",
       "      <td>14777297</td>\n",
       "      <td>10</td>\n",
       "      <td>윌리</td>\n",
       "      <td>간만에 아이가 즐거워하네요!!</td>\n",
       "    </tr>\n",
       "    <tr>\n",
       "      <th>...</th>\n",
       "      <td>...</td>\n",
       "      <td>...</td>\n",
       "      <td>...</td>\n",
       "      <td>...</td>\n",
       "    </tr>\n",
       "    <tr>\n",
       "      <th>70</th>\n",
       "      <td>14777255</td>\n",
       "      <td>10</td>\n",
       "      <td>베놈</td>\n",
       "      <td>난 잼있던데...  많이....</td>\n",
       "    </tr>\n",
       "    <tr>\n",
       "      <th>71</th>\n",
       "      <td>14777254</td>\n",
       "      <td>10</td>\n",
       "      <td>스타 이즈 본</td>\n",
       "      <td>와ㅋㅋㅋ여주가 배우라기엔 노래를 너무 잘 해서 감탄하며 봤는데 레이디 가가잼ㅋㅋㅋ가...</td>\n",
       "    </tr>\n",
       "    <tr>\n",
       "      <th>72</th>\n",
       "      <td>14777252</td>\n",
       "      <td>2</td>\n",
       "      <td>안시성</td>\n",
       "      <td>너무 현실적이지 못한영화 비추</td>\n",
       "    </tr>\n",
       "    <tr>\n",
       "      <th>73</th>\n",
       "      <td>14777251</td>\n",
       "      <td>10</td>\n",
       "      <td>보이후드</td>\n",
       "      <td>선택의 책임은 본인이 감당하는것. 그런의미에서 메이슨보다 엄마의 인생에 먼저 눈이 ...</td>\n",
       "    </tr>\n",
       "    <tr>\n",
       "      <th>74</th>\n",
       "      <td>14777250</td>\n",
       "      <td>10</td>\n",
       "      <td>창궐</td>\n",
       "      <td>재밌을거같음ㅎㅎㅎㅎ</td>\n",
       "    </tr>\n",
       "    <tr>\n",
       "      <th>75</th>\n",
       "      <td>14777249</td>\n",
       "      <td>10</td>\n",
       "      <td>창궐</td>\n",
       "      <td>스크린을 압도하는 두 주인공... 눈호강은 물론 재미까지</td>\n",
       "    </tr>\n",
       "    <tr>\n",
       "      <th>76</th>\n",
       "      <td>14777248</td>\n",
       "      <td>6</td>\n",
       "      <td>암수살인</td>\n",
       "      <td>약간 생각보다 재미없었어여</td>\n",
       "    </tr>\n",
       "    <tr>\n",
       "      <th>77</th>\n",
       "      <td>14777247</td>\n",
       "      <td>9</td>\n",
       "      <td>창궐</td>\n",
       "      <td>기대없이 봤는데 역시 현빈이네.... 현빈 개좋아</td>\n",
       "    </tr>\n",
       "    <tr>\n",
       "      <th>78</th>\n",
       "      <td>14777246</td>\n",
       "      <td>10</td>\n",
       "      <td>창궐</td>\n",
       "      <td>재미만 있구만.. 이거 정치적느낌 있으니 벼라별 테러충들이 다 붙네 ㅋㅋㅋ</td>\n",
       "    </tr>\n",
       "    <tr>\n",
       "      <th>79</th>\n",
       "      <td>14777245</td>\n",
       "      <td>9</td>\n",
       "      <td>창궐</td>\n",
       "      <td>부산행을 한단계 업그레이드 시킨 호러사극액션물 한국형 좀비물의 신기원!~연상호 감독...</td>\n",
       "    </tr>\n",
       "    <tr>\n",
       "      <th>80</th>\n",
       "      <td>14777244</td>\n",
       "      <td>6</td>\n",
       "      <td>창궐</td>\n",
       "      <td>왕권에 대해 말하고 싶은건지 재난의 오락적 요소를 담고 싶은건지 연출조차 해매고 있...</td>\n",
       "    </tr>\n",
       "    <tr>\n",
       "      <th>81</th>\n",
       "      <td>14777243</td>\n",
       "      <td>1</td>\n",
       "      <td>창궐</td>\n",
       "      <td>지금 친한 누님이 회사 연차내고 시간맞아서 보러갔다가 중간에 나와서 저한테 쌍욕을 ...</td>\n",
       "    </tr>\n",
       "    <tr>\n",
       "      <th>82</th>\n",
       "      <td>14777242</td>\n",
       "      <td>10</td>\n",
       "      <td>미쓰백</td>\n",
       "      <td>오랜만에 만족하고 본 영화 추천합니다</td>\n",
       "    </tr>\n",
       "    <tr>\n",
       "      <th>83</th>\n",
       "      <td>14777241</td>\n",
       "      <td>2</td>\n",
       "      <td>창궐</td>\n",
       "      <td>보는내내 마음이 부글부글</td>\n",
       "    </tr>\n",
       "    <tr>\n",
       "      <th>84</th>\n",
       "      <td>14777240</td>\n",
       "      <td>4</td>\n",
       "      <td>창궐</td>\n",
       "      <td>네이버 언제까지 평점 지우나 하 차라리 어제 술먹고 영화보면서 잘걸</td>\n",
       "    </tr>\n",
       "    <tr>\n",
       "      <th>85</th>\n",
       "      <td>14777238</td>\n",
       "      <td>3</td>\n",
       "      <td>안시성</td>\n",
       "      <td>제 아무리 맛있는 음식도 섞어놓으면 음식물 쓰레기일뿐 그걸 좋아할 멍청이는 없다. ...</td>\n",
       "    </tr>\n",
       "    <tr>\n",
       "      <th>86</th>\n",
       "      <td>14777239</td>\n",
       "      <td>10</td>\n",
       "      <td>크레이지 리치 아시안</td>\n",
       "      <td>레알 핵폭탄급 인생작. 나 남자인데 캔트 헬프 폴링 인 러브 노래 나올 때 눈물 펑...</td>\n",
       "    </tr>\n",
       "    <tr>\n",
       "      <th>87</th>\n",
       "      <td>14777237</td>\n",
       "      <td>9</td>\n",
       "      <td>창궐</td>\n",
       "      <td>한국도 좀비 잘만드네요ㅋㅋ 좀비 영화 좋아해서 그런지 너무 재밌게 봤어요</td>\n",
       "    </tr>\n",
       "    <tr>\n",
       "      <th>88</th>\n",
       "      <td>14777236</td>\n",
       "      <td>4</td>\n",
       "      <td>창궐</td>\n",
       "      <td>시간가는줄 알고  아주  잘봤어요 ^^ ~  딱히  추천하고 싶지는 안네요</td>\n",
       "    </tr>\n",
       "    <tr>\n",
       "      <th>89</th>\n",
       "      <td>14777235</td>\n",
       "      <td>9</td>\n",
       "      <td>창궐</td>\n",
       "      <td>야귀들 등장할때부터 심장 쫄깃쫄깃.. 손에 땀을 쥐게 만든다..</td>\n",
       "    </tr>\n",
       "    <tr>\n",
       "      <th>90</th>\n",
       "      <td>14777234</td>\n",
       "      <td>9</td>\n",
       "      <td>창궐</td>\n",
       "      <td>이정도면  극장가서 가서 보도록!</td>\n",
       "    </tr>\n",
       "    <tr>\n",
       "      <th>91</th>\n",
       "      <td>14777233</td>\n",
       "      <td>10</td>\n",
       "      <td>내니 맥피 2 - 유모와 마법소동</td>\n",
       "      <td>엠마톰슨은 천재!만재다!!!</td>\n",
       "    </tr>\n",
       "    <tr>\n",
       "      <th>92</th>\n",
       "      <td>14777232</td>\n",
       "      <td>10</td>\n",
       "      <td>창궐</td>\n",
       "      <td>일단 현빈잘생김 장동건잘생김</td>\n",
       "    </tr>\n",
       "    <tr>\n",
       "      <th>93</th>\n",
       "      <td>14777230</td>\n",
       "      <td>10</td>\n",
       "      <td>창궐</td>\n",
       "      <td>재밌네요 현빈 연기 좋았어요</td>\n",
       "    </tr>\n",
       "    <tr>\n",
       "      <th>94</th>\n",
       "      <td>14777228</td>\n",
       "      <td>2</td>\n",
       "      <td>창궐</td>\n",
       "      <td>네이버 영화 평점 못 믿겠네요현빈님 안타깝습니다다른 모든 배우들이 명배우들이나이런 ...</td>\n",
       "    </tr>\n",
       "    <tr>\n",
       "      <th>95</th>\n",
       "      <td>14777227</td>\n",
       "      <td>10</td>\n",
       "      <td>창궐</td>\n",
       "      <td>웹툰보고 봤는데 꾸르젬 인정</td>\n",
       "    </tr>\n",
       "    <tr>\n",
       "      <th>96</th>\n",
       "      <td>14777226</td>\n",
       "      <td>8</td>\n",
       "      <td>사랑, 스무살</td>\n",
       "      <td>순간의 화끈함보다 제자리를 찾는 차분함이, 뜨거운 사랑보다 미지근한 죄책감이 더 공...</td>\n",
       "    </tr>\n",
       "    <tr>\n",
       "      <th>97</th>\n",
       "      <td>14777225</td>\n",
       "      <td>10</td>\n",
       "      <td>창궐</td>\n",
       "      <td>우리나라 좀비액션이 발전하는 것을 느낄 수 있는 영화!</td>\n",
       "    </tr>\n",
       "    <tr>\n",
       "      <th>98</th>\n",
       "      <td>14777224</td>\n",
       "      <td>10</td>\n",
       "      <td>창궐</td>\n",
       "      <td>아귀 분장과 움직임이 실감났어요. 보는 내내 긴장 긴장~^^; 부산행이 생각나더군요~</td>\n",
       "    </tr>\n",
       "    <tr>\n",
       "      <th>99</th>\n",
       "      <td>14777223</td>\n",
       "      <td>10</td>\n",
       "      <td>크레이지 리치 아시안</td>\n",
       "      <td>신데렐라 스토리 인데 재밌게 봤다</td>\n",
       "    </tr>\n",
       "  </tbody>\n",
       "</table>\n",
       "<p>100 rows × 4 columns</p>\n",
       "</div>"
      ],
      "text/plain": [
       "         num point               title  \\\n",
       "0   14777328     4                 안시성   \n",
       "1   14777327    10             펭귄 하이웨이   \n",
       "2   14777326    10            호밀밭의 반항아   \n",
       "3   14777325     8                  창궐   \n",
       "4   14777324     1                  창궐   \n",
       "5   14777323    10                  창궐   \n",
       "6   14777322    10                  창궐   \n",
       "7   14777321     7                  창궐   \n",
       "8   14777320     1                  창궐   \n",
       "9   14777319     8             인크레더블 2   \n",
       "10  14777317    10                 미쓰백   \n",
       "11  14777316    10             스타 이즈 본   \n",
       "12  14777314     1                  창궐   \n",
       "13  14777313     2                  창궐   \n",
       "14  14777312     6                  창궐   \n",
       "15  14777311     9     곰돌이 푸 다시 만나 행복해   \n",
       "16  14777310     1                 안시성   \n",
       "17  14777309     1                  창궐   \n",
       "18  14777308    10             스타 이즈 본   \n",
       "19  14777307    10                  창궐   \n",
       "20  14777306    10             스타 이즈 본   \n",
       "21  14777305     7                 안시성   \n",
       "22  14777304    10             스타 이즈 본   \n",
       "23  14777303     7    에곤 쉴레: 욕망이 그린 그림   \n",
       "24  14777302    10                  윌리   \n",
       "25  14777301    10                  윌리   \n",
       "26  14777300    10                  윌리   \n",
       "27  14777299    10                  윌리   \n",
       "28  14777298    10                  윌리   \n",
       "29  14777297    10                  윌리   \n",
       "..       ...   ...                 ...   \n",
       "70  14777255    10                  베놈   \n",
       "71  14777254    10             스타 이즈 본   \n",
       "72  14777252     2                 안시성   \n",
       "73  14777251    10                보이후드   \n",
       "74  14777250    10                  창궐   \n",
       "75  14777249    10                  창궐   \n",
       "76  14777248     6                암수살인   \n",
       "77  14777247     9                  창궐   \n",
       "78  14777246    10                  창궐   \n",
       "79  14777245     9                  창궐   \n",
       "80  14777244     6                  창궐   \n",
       "81  14777243     1                  창궐   \n",
       "82  14777242    10                 미쓰백   \n",
       "83  14777241     2                  창궐   \n",
       "84  14777240     4                  창궐   \n",
       "85  14777238     3                 안시성   \n",
       "86  14777239    10         크레이지 리치 아시안   \n",
       "87  14777237     9                  창궐   \n",
       "88  14777236     4                  창궐   \n",
       "89  14777235     9                  창궐   \n",
       "90  14777234     9                  창궐   \n",
       "91  14777233    10  내니 맥피 2 - 유모와 마법소동   \n",
       "92  14777232    10                  창궐   \n",
       "93  14777230    10                  창궐   \n",
       "94  14777228     2                  창궐   \n",
       "95  14777227    10                  창궐   \n",
       "96  14777226     8             사랑, 스무살   \n",
       "97  14777225    10                  창궐   \n",
       "98  14777224    10                  창궐   \n",
       "99  14777223    10         크레이지 리치 아시안   \n",
       "\n",
       "                                               review  \n",
       "0   전투신이 많아 찍을때는 힘들었을 것 같지만...대부분의 배우가 사극의 역할에는 어울...  \n",
       "1   작은 언덕같은 가슴, 포근한 가슴... 가슴 좋아하는게 뭐가 나쁨? 가슴배구단 보면...  \n",
       "2                         아집불통 성실은, 고집불통 재능과 권력을 이긴다.  \n",
       "3          기대안하고 봤는데  잼있었어요~현빈 액션씬넘나 멋짐~장동건 악역연기도 굿~~  \n",
       "4                                    알바들한테 속는 흑우들 없제?  \n",
       "5                                  이영화~볼만하네요 현빈최고 입니다  \n",
       "6                                장동건이 용복입고 나왔을때 포스 ㄷㄷ  \n",
       "7   오락성으로 충분히 볼만한 영화다 그리고 웹툰 원작에 충실하게 만들었네 무조건 10점...  \n",
       "8                       엑스트라들이 웃으면서 전투참여하더라 ㅋㅋㅋ웃겨라. .  \n",
       "9   너무나 잼있는 가족히어로물~ 대사도 촌철살인~  가족같에 있을 수 있는 일들을 참 ...  \n",
       "10                                      으흐어어어어엉 으으윽흑흑  \n",
       "11                            이 영화에서야말로...진짜 스타 탄생!!!  \n",
       "12                        알바들 고생많다..올해 물괴와 더불어 최악의 영화  \n",
       "13                                       야귀라! 설정이 어설퍼  \n",
       "14  그냥별로. 현시대와 대중입맞에 맞추려는것만 보임 시대는 조선 음악은 헐리우드 코믹요...  \n",
       "15                어른동화 같은 느낌이에요.다들 너무 귀엽고 귀엽고 귀엽네요~~~  \n",
       "16           참.. 이 따위로 만들어도 돈내고 보러가는 미개인들이 있구나...하...  \n",
       "17                                      네이버 댓글 알바의 창궐  \n",
       "18  사랑  + 인생  잭슨과 앨리가  만나 이루어진 새로운 세상  잭슨의 인생의 아픔이...  \n",
       "19                                        꿀잼 또보러가야지~♡  \n",
       "20  망할 술과 망할 레즈... 두 배우들의 빛나는 목소리와 연기가 마지막까지 절절하게 ...  \n",
       "21  대부분의 한국영화가 연출이 꽝인데 비해 정말 연출력 하나만은 대박! 그러나 차라리 ...  \n",
       "22                                        ㄴㅓ머 좋았어요ㅎㅎㅎ  \n",
       "23  예술이냐 외설이냐...솔직히 상식적으로 그의 취향이나 스타일이 이해하기가 쉽진 않지...  \n",
       "24               역시 자동차 애니는 실망시키지 않네요 화면때깔도 좋고 재미있었네요  \n",
       "25                         요즘 자동차 좋아하는 조카랑 재밌네 봤네요 ㅎㅎ  \n",
       "26           자동차 애니메이션 진짜 오랜만이라서 우리 애랑 같이 즐겁게 봤어요! ^^  \n",
       "27                   아이들이 영화도 재밌게보고 미니카도 받아서 기분이 좋네요.  \n",
       "28                        남아들이 딱 좋아할 영화ㅎㅎ 재밌게 봤습니다~!!  \n",
       "29                                   간만에 아이가 즐거워하네요!!  \n",
       "..                                                ...  \n",
       "70                                  난 잼있던데...  많이....  \n",
       "71  와ㅋㅋㅋ여주가 배우라기엔 노래를 너무 잘 해서 감탄하며 봤는데 레이디 가가잼ㅋㅋㅋ가...  \n",
       "72                                   너무 현실적이지 못한영화 비추  \n",
       "73  선택의 책임은 본인이 감당하는것. 그런의미에서 메이슨보다 엄마의 인생에 먼저 눈이 ...  \n",
       "74                                         재밌을거같음ㅎㅎㅎㅎ  \n",
       "75                    스크린을 압도하는 두 주인공... 눈호강은 물론 재미까지  \n",
       "76                                     약간 생각보다 재미없었어여  \n",
       "77                        기대없이 봤는데 역시 현빈이네.... 현빈 개좋아  \n",
       "78          재미만 있구만.. 이거 정치적느낌 있으니 벼라별 테러충들이 다 붙네 ㅋㅋㅋ  \n",
       "79  부산행을 한단계 업그레이드 시킨 호러사극액션물 한국형 좀비물의 신기원!~연상호 감독...  \n",
       "80  왕권에 대해 말하고 싶은건지 재난의 오락적 요소를 담고 싶은건지 연출조차 해매고 있...  \n",
       "81  지금 친한 누님이 회사 연차내고 시간맞아서 보러갔다가 중간에 나와서 저한테 쌍욕을 ...  \n",
       "82                               오랜만에 만족하고 본 영화 추천합니다  \n",
       "83                                      보는내내 마음이 부글부글  \n",
       "84              네이버 언제까지 평점 지우나 하 차라리 어제 술먹고 영화보면서 잘걸  \n",
       "85  제 아무리 맛있는 음식도 섞어놓으면 음식물 쓰레기일뿐 그걸 좋아할 멍청이는 없다. ...  \n",
       "86  레알 핵폭탄급 인생작. 나 남자인데 캔트 헬프 폴링 인 러브 노래 나올 때 눈물 펑...  \n",
       "87           한국도 좀비 잘만드네요ㅋㅋ 좀비 영화 좋아해서 그런지 너무 재밌게 봤어요  \n",
       "88          시간가는줄 알고  아주  잘봤어요 ^^ ~  딱히  추천하고 싶지는 안네요  \n",
       "89                야귀들 등장할때부터 심장 쫄깃쫄깃.. 손에 땀을 쥐게 만든다..  \n",
       "90                                 이정도면  극장가서 가서 보도록!  \n",
       "91                                    엠마톰슨은 천재!만재다!!!  \n",
       "92                                    일단 현빈잘생김 장동건잘생김  \n",
       "93                                    재밌네요 현빈 연기 좋았어요  \n",
       "94  네이버 영화 평점 못 믿겠네요현빈님 안타깝습니다다른 모든 배우들이 명배우들이나이런 ...  \n",
       "95                                    웹툰보고 봤는데 꾸르젬 인정  \n",
       "96  순간의 화끈함보다 제자리를 찾는 차분함이, 뜨거운 사랑보다 미지근한 죄책감이 더 공...  \n",
       "97                     우리나라 좀비액션이 발전하는 것을 느낄 수 있는 영화!  \n",
       "98    아귀 분장과 움직임이 실감났어요. 보는 내내 긴장 긴장~^^; 부산행이 생각나더군요~  \n",
       "99                                 신데렐라 스토리 인데 재밌게 봤다  \n",
       "\n",
       "[100 rows x 4 columns]"
      ]
     },
     "execution_count": 33,
     "metadata": {},
     "output_type": "execute_result"
    }
   ],
   "source": [
    "test_df = pd.DataFrame(columns=('num', 'point', 'title', 'review'))\n",
    "\n",
    "for index in range(10):\n",
    "    test_df = test_df.append(scraping_rating_page(PAGE_URL % (index+1)), ignore_index=True)\n",
    "    \n",
    "test_df"
   ]
  },
  {
   "cell_type": "markdown",
   "metadata": {},
   "source": [
    "- 리뷰 갯수가 딱 맞지 않을 수 있습니다.\n",
    "- 이유는 스크레핑 하는 과정에도 새로운 게시물이 생겨서 페이징 시에 누락되는 평점이 존재 하기 때문입니다.**"
   ]
  }
 ],
 "metadata": {
  "kernelspec": {
   "display_name": "Python 3",
   "language": "python",
   "name": "python3"
  },
  "language_info": {
   "codemirror_mode": {
    "name": "ipython",
    "version": 3
   },
   "file_extension": ".py",
   "mimetype": "text/x-python",
   "name": "python",
   "nbconvert_exporter": "python",
   "pygments_lexer": "ipython3",
   "version": "3.6.6"
  }
 },
 "nbformat": 4,
 "nbformat_minor": 2
}
